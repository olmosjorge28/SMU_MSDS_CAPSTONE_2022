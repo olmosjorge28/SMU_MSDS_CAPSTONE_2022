{
 "cells": [
  {
   "cell_type": "code",
   "execution_count": 24,
   "id": "91c9702b",
   "metadata": {},
   "outputs": [],
   "source": [
    "import requests\n",
    "import json"
   ]
  },
  {
   "cell_type": "code",
   "execution_count": 42,
   "id": "a419f618",
   "metadata": {
    "scrolled": true
   },
   "outputs": [
    {
     "name": "stdout",
     "output_type": "stream",
     "text": [
      "{\"status\":\"1\",\"message\":\"OK\",\"result\":\"[{\\\"constant\\\":false,\\\"inputs\\\":[{\\\"components\\\":[{\\\"name\\\":\\\"makerAddress\\\",\\\"type\\\":\\\"address\\\"},{\\\"name\\\":\\\"takerAddress\\\",\\\"type\\\":\\\"address\\\"},{\\\"name\\\":\\\"feeRecipientAddress\\\",\\\"type\\\":\\\"address\\\"},{\\\"name\\\":\\\"senderAddress\\\",\\\"type\\\":\\\"address\\\"},{\\\"name\\\":\\\"makerAssetAmount\\\",\\\"type\\\":\\\"uint256\\\"},{\\\"name\\\":\\\"takerAssetAmount\\\",\\\"type\\\":\\\"uint256\\\"},{\\\"name\\\":\\\"makerFee\\\",\\\"type\\\":\\\"uint256\\\"},{\\\"name\\\":\\\"takerFee\\\",\\\"type\\\":\\\"uint256\\\"},{\\\"name\\\":\\\"expirationTimeSeconds\\\",\\\"type\\\":\\\"uint256\\\"},{\\\"name\\\":\\\"salt\\\",\\\"type\\\":\\\"uint256\\\"},{\\\"name\\\":\\\"makerAssetData\\\",\\\"type\\\":\\\"bytes\\\"},{\\\"name\\\":\\\"takerAssetData\\\",\\\"type\\\":\\\"bytes\\\"}],\\\"name\\\":\\\"orders\\\",\\\"type\\\":\\\"tuple[]\\\"},{\\\"name\\\":\\\"makerAssetFillAmount\\\",\\\"type\\\":\\\"uint256\\\"},{\\\"name\\\":\\\"signatures\\\",\\\"type\\\":\\\"bytes[]\\\"},{\\\"components\\\":[{\\\"name\\\":\\\"makerAddress\\\",\\\"type\\\":\\\"address\\\"},{\\\"name\\\":\\\"takerAddress\\\",\\\"type\\\":\\\"address\\\"},{\\\"name\\\":\\\"feeRecipientAddress\\\",\\\"type\\\":\\\"address\\\"},{\\\"name\\\":\\\"senderAddress\\\",\\\"type\\\":\\\"address\\\"},{\\\"name\\\":\\\"makerAssetAmount\\\",\\\"type\\\":\\\"uint256\\\"},{\\\"name\\\":\\\"takerAssetAmount\\\",\\\"type\\\":\\\"uint256\\\"},{\\\"name\\\":\\\"makerFee\\\",\\\"type\\\":\\\"uint256\\\"},{\\\"name\\\":\\\"takerFee\\\",\\\"type\\\":\\\"uint256\\\"},{\\\"name\\\":\\\"expirationTimeSeconds\\\",\\\"type\\\":\\\"uint256\\\"},{\\\"name\\\":\\\"salt\\\",\\\"type\\\":\\\"uint256\\\"},{\\\"name\\\":\\\"makerAssetData\\\",\\\"type\\\":\\\"bytes\\\"},{\\\"name\\\":\\\"takerAssetData\\\",\\\"type\\\":\\\"bytes\\\"}],\\\"name\\\":\\\"feeOrders\\\",\\\"type\\\":\\\"tuple[]\\\"},{\\\"name\\\":\\\"feeSignatures\\\",\\\"type\\\":\\\"bytes[]\\\"},{\\\"name\\\":\\\"feePercentage\\\",\\\"type\\\":\\\"uint256\\\"},{\\\"name\\\":\\\"feeRecipient\\\",\\\"type\\\":\\\"address\\\"}],\\\"name\\\":\\\"marketBuyOrdersWithEth\\\",\\\"outputs\\\":[{\\\"components\\\":[{\\\"name\\\":\\\"makerAssetFilledAmount\\\",\\\"type\\\":\\\"uint256\\\"},{\\\"name\\\":\\\"takerAssetFilledAmount\\\",\\\"type\\\":\\\"uint256\\\"},{\\\"name\\\":\\\"makerFeePaid\\\",\\\"type\\\":\\\"uint256\\\"},{\\\"name\\\":\\\"takerFeePaid\\\",\\\"type\\\":\\\"uint256\\\"}],\\\"name\\\":\\\"orderFillResults\\\",\\\"type\\\":\\\"tuple\\\"},{\\\"components\\\":[{\\\"name\\\":\\\"makerAssetFilledAmount\\\",\\\"type\\\":\\\"uint256\\\"},{\\\"name\\\":\\\"takerAssetFilledAmount\\\",\\\"type\\\":\\\"uint256\\\"},{\\\"name\\\":\\\"makerFeePaid\\\",\\\"type\\\":\\\"uint256\\\"},{\\\"name\\\":\\\"takerFeePaid\\\",\\\"type\\\":\\\"uint256\\\"}],\\\"name\\\":\\\"feeOrderFillResults\\\",\\\"type\\\":\\\"tuple\\\"}],\\\"payable\\\":true,\\\"stateMutability\\\":\\\"payable\\\",\\\"type\\\":\\\"function\\\"},{\\\"constant\\\":false,\\\"inputs\\\":[{\\\"name\\\":\\\"assetData\\\",\\\"type\\\":\\\"bytes\\\"},{\\\"name\\\":\\\"amount\\\",\\\"type\\\":\\\"uint256\\\"}],\\\"name\\\":\\\"withdrawAsset\\\",\\\"outputs\\\":[],\\\"payable\\\":false,\\\"stateMutability\\\":\\\"nonpayable\\\",\\\"type\\\":\\\"function\\\"},{\\\"constant\\\":true,\\\"inputs\\\":[],\\\"name\\\":\\\"owner\\\",\\\"outputs\\\":[{\\\"name\\\":\\\"\\\",\\\"type\\\":\\\"address\\\"}],\\\"payable\\\":false,\\\"stateMutability\\\":\\\"view\\\",\\\"type\\\":\\\"function\\\"},{\\\"constant\\\":false,\\\"inputs\\\":[{\\\"components\\\":[{\\\"name\\\":\\\"makerAddress\\\",\\\"type\\\":\\\"address\\\"},{\\\"name\\\":\\\"takerAddress\\\",\\\"type\\\":\\\"address\\\"},{\\\"name\\\":\\\"feeRecipientAddress\\\",\\\"type\\\":\\\"address\\\"},{\\\"name\\\":\\\"senderAddress\\\",\\\"type\\\":\\\"address\\\"},{\\\"name\\\":\\\"makerAssetAmount\\\",\\\"type\\\":\\\"uint256\\\"},{\\\"name\\\":\\\"takerAssetAmount\\\",\\\"type\\\":\\\"uint256\\\"},{\\\"name\\\":\\\"makerFee\\\",\\\"type\\\":\\\"uint256\\\"},{\\\"name\\\":\\\"takerFee\\\",\\\"type\\\":\\\"uint256\\\"},{\\\"name\\\":\\\"expirationTimeSeconds\\\",\\\"type\\\":\\\"uint256\\\"},{\\\"name\\\":\\\"salt\\\",\\\"type\\\":\\\"uint256\\\"},{\\\"name\\\":\\\"makerAssetData\\\",\\\"type\\\":\\\"bytes\\\"},{\\\"name\\\":\\\"takerAssetData\\\",\\\"type\\\":\\\"bytes\\\"}],\\\"name\\\":\\\"orders\\\",\\\"type\\\":\\\"tuple[]\\\"},{\\\"name\\\":\\\"signatures\\\",\\\"type\\\":\\\"bytes[]\\\"},{\\\"components\\\":[{\\\"name\\\":\\\"makerAddress\\\",\\\"type\\\":\\\"address\\\"},{\\\"name\\\":\\\"takerAddress\\\",\\\"type\\\":\\\"address\\\"},{\\\"name\\\":\\\"feeRecipientAddress\\\",\\\"type\\\":\\\"address\\\"},{\\\"name\\\":\\\"senderAddress\\\",\\\"type\\\":\\\"address\\\"},{\\\"name\\\":\\\"makerAssetAmount\\\",\\\"type\\\":\\\"uint256\\\"},{\\\"name\\\":\\\"takerAssetAmount\\\",\\\"type\\\":\\\"uint256\\\"},{\\\"name\\\":\\\"makerFee\\\",\\\"type\\\":\\\"uint256\\\"},{\\\"name\\\":\\\"takerFee\\\",\\\"type\\\":\\\"uint256\\\"},{\\\"name\\\":\\\"expirationTimeSeconds\\\",\\\"type\\\":\\\"uint256\\\"},{\\\"name\\\":\\\"salt\\\",\\\"type\\\":\\\"uint256\\\"},{\\\"name\\\":\\\"makerAssetData\\\",\\\"type\\\":\\\"bytes\\\"},{\\\"name\\\":\\\"takerAssetData\\\",\\\"type\\\":\\\"bytes\\\"}],\\\"name\\\":\\\"feeOrders\\\",\\\"type\\\":\\\"tuple[]\\\"},{\\\"name\\\":\\\"feeSignatures\\\",\\\"type\\\":\\\"bytes[]\\\"},{\\\"name\\\":\\\"feePercentage\\\",\\\"type\\\":\\\"uint256\\\"},{\\\"name\\\":\\\"feeRecipient\\\",\\\"type\\\":\\\"address\\\"}],\\\"name\\\":\\\"marketSellOrdersWithEth\\\",\\\"outputs\\\":[{\\\"components\\\":[{\\\"name\\\":\\\"makerAssetFilledAmount\\\",\\\"type\\\":\\\"uint256\\\"},{\\\"name\\\":\\\"takerAssetFilledAmount\\\",\\\"type\\\":\\\"uint256\\\"},{\\\"name\\\":\\\"makerFeePaid\\\",\\\"type\\\":\\\"uint256\\\"},{\\\"name\\\":\\\"takerFeePaid\\\",\\\"type\\\":\\\"uint256\\\"}],\\\"name\\\":\\\"orderFillResults\\\",\\\"type\\\":\\\"tuple\\\"},{\\\"components\\\":[{\\\"name\\\":\\\"makerAssetFilledAmount\\\",\\\"type\\\":\\\"uint256\\\"},{\\\"name\\\":\\\"takerAssetFilledAmount\\\",\\\"type\\\":\\\"uint256\\\"},{\\\"name\\\":\\\"makerFeePaid\\\",\\\"type\\\":\\\"uint256\\\"},{\\\"name\\\":\\\"takerFeePaid\\\",\\\"type\\\":\\\"uint256\\\"}],\\\"name\\\":\\\"feeOrderFillResults\\\",\\\"type\\\":\\\"tuple\\\"}],\\\"payable\\\":true,\\\"stateMutability\\\":\\\"payable\\\",\\\"type\\\":\\\"function\\\"},{\\\"constant\\\":false,\\\"inputs\\\":[{\\\"name\\\":\\\"newOwner\\\",\\\"type\\\":\\\"address\\\"}],\\\"name\\\":\\\"transferOwnership\\\",\\\"outputs\\\":[],\\\"payable\\\":false,\\\"stateMutability\\\":\\\"nonpayable\\\",\\\"type\\\":\\\"function\\\"},{\\\"inputs\\\":[{\\\"name\\\":\\\"_exchange\\\",\\\"type\\\":\\\"address\\\"},{\\\"name\\\":\\\"_zrxAssetData\\\",\\\"type\\\":\\\"bytes\\\"},{\\\"name\\\":\\\"_wethAssetData\\\",\\\"type\\\":\\\"bytes\\\"}],\\\"payable\\\":false,\\\"stateMutability\\\":\\\"nonpayable\\\",\\\"type\\\":\\\"constructor\\\"},{\\\"payable\\\":true,\\\"stateMutability\\\":\\\"payable\\\",\\\"type\\\":\\\"fallback\\\"}]\"}\n"
     ]
    }
   ],
   "source": [
    "# top 'account' that's really a contract\n",
    "contract_query = 'https://api.etherscan.io/api?module=contract&action=getabi&address='\n",
    "address = '0x76481cAa104B5f6BCcB540Dae4CEfaF1c398EBea'\n",
    "api = '&apikey=SA5WRRVBMAQBVW1X9E4UZ8IK9VEEJAWF5I'\n",
    "url = contract_query + address + api\n",
    "a1 = requests.get(url)\n",
    "print(a1.text)    "
   ]
  },
  {
   "cell_type": "code",
   "execution_count": 43,
   "id": "ade986f2",
   "metadata": {},
   "outputs": [
    {
     "data": {
      "text/plain": [
       "'1'"
      ]
     },
     "execution_count": 43,
     "metadata": {},
     "output_type": "execute_result"
    }
   ],
   "source": [
    "# status=1 is a contract\n",
    "a1_dict = json.loads(a1.text)\n",
    "a1_dict['status']"
   ]
  },
  {
   "cell_type": "code",
   "execution_count": 45,
   "id": "2031685c",
   "metadata": {},
   "outputs": [
    {
     "data": {
      "text/plain": [
       "{'status': '0',\n",
       " 'message': 'NOTOK',\n",
       " 'result': 'Contract source code not verified'}"
      ]
     },
     "execution_count": 45,
     "metadata": {},
     "output_type": "execute_result"
    }
   ],
   "source": [
    "# status=0 is an address or unverified contract\n",
    "address = '0xdaD78DBF26cbC1484ef8D13ec3D086996D61D232'\n",
    "url = contract_query + address + api\n",
    "a2 = json.loads( requests.get(url).text )\n",
    "a2"
   ]
  },
  {
   "cell_type": "code",
   "execution_count": 69,
   "id": "ea2bc011",
   "metadata": {},
   "outputs": [
    {
     "data": {
      "text/plain": [
       "{'status': '1',\n",
       " 'message': 'OK',\n",
       " 'result': [{'blockNumber': '10991620',\n",
       "   'timeStamp': '1601844975',\n",
       "   'hash': '0xdd67d25923e1791b7c0ab69205a24469332270f27ad62846010a939f6cbb0dc0',\n",
       "   'nonce': '28',\n",
       "   'blockHash': '0x239169822ec60228266cfe918d49cbd8c8562ec84b028a8f25ea902d8e2f52ca',\n",
       "   'from': '0xc4d8a4813a129835424b22856c19f044b2ecdacd',\n",
       "   'contractAddress': '0x0e3a2a1f2146d86a604adc220b4967a898d7fe07',\n",
       "   'to': '0x76481caa104b5f6bccb540dae4cefaf1c398ebea',\n",
       "   'tokenID': '214209981',\n",
       "   'tokenName': 'Gods Unchained Cards',\n",
       "   'tokenSymbol': 'CARD',\n",
       "   'tokenDecimal': '0',\n",
       "   'transactionIndex': '51',\n",
       "   'gas': '638505',\n",
       "   'gasPrice': '51000000000',\n",
       "   'gasUsed': '367265',\n",
       "   'cumulativeGasUsed': '4176969',\n",
       "   'input': 'deprecated',\n",
       "   'confirmations': '4066445'},\n",
       "  {'blockNumber': '10991620',\n",
       "   'timeStamp': '1601844975',\n",
       "   'hash': '0xdd67d25923e1791b7c0ab69205a24469332270f27ad62846010a939f6cbb0dc0',\n",
       "   'nonce': '28',\n",
       "   'blockHash': '0x239169822ec60228266cfe918d49cbd8c8562ec84b028a8f25ea902d8e2f52ca',\n",
       "   'from': '0x76481caa104b5f6bccb540dae4cefaf1c398ebea',\n",
       "   'contractAddress': '0x0e3a2a1f2146d86a604adc220b4967a898d7fe07',\n",
       "   'to': '0xfcd0bcd5eca6a99bf29d1f8bb3e1c6c305128c71',\n",
       "   'tokenID': '214209981',\n",
       "   'tokenName': 'Gods Unchained Cards',\n",
       "   'tokenSymbol': 'CARD',\n",
       "   'tokenDecimal': '0',\n",
       "   'transactionIndex': '51',\n",
       "   'gas': '638505',\n",
       "   'gasPrice': '51000000000',\n",
       "   'gasUsed': '367265',\n",
       "   'cumulativeGasUsed': '4176969',\n",
       "   'input': 'deprecated',\n",
       "   'confirmations': '4066445'}]}"
      ]
     },
     "execution_count": 69,
     "metadata": {},
     "output_type": "execute_result"
    }
   ],
   "source": [
    "# This query gives ALL transactions for ERC721 tokens from the seller to contract to buyer\n",
    "\n",
    "erc721_query = 'https://api.etherscan.io/api?module=account&action=tokennfttx&address='\n",
    "address = '0x76481cAa104B5f6BCcB540Dae4CEfaF1c398EBea'\n",
    "other = '&startblock=10991619&endblock=10991621&sort=asc'\n",
    "url = erc721_query + address + other + api\n",
    "t1_txn = json.loads( requests.get(url).text )\n",
    "t1_txn"
   ]
  }
 ],
 "metadata": {
  "kernelspec": {
   "display_name": "Python 3",
   "language": "python",
   "name": "python3"
  },
  "language_info": {
   "codemirror_mode": {
    "name": "ipython",
    "version": 3
   },
   "file_extension": ".py",
   "mimetype": "text/x-python",
   "name": "python",
   "nbconvert_exporter": "python",
   "pygments_lexer": "ipython3",
   "version": "3.7.10"
  }
 },
 "nbformat": 4,
 "nbformat_minor": 5
}
