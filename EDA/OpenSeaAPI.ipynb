{
 "cells": [
  {
   "cell_type": "markdown",
   "id": "d6bc2fbe",
   "metadata": {},
   "source": [
    "https://pypi.org/project/opensea-api/\n",
    "\n",
    "https://pypi.org/project/opensea/"
   ]
  },
  {
   "cell_type": "code",
   "execution_count": 1,
   "id": "69086b06",
   "metadata": {},
   "outputs": [],
   "source": [
    "# ! pip install opensea-api"
   ]
  },
  {
   "cell_type": "code",
   "execution_count": 2,
   "id": "d963e7a6",
   "metadata": {},
   "outputs": [],
   "source": [
    "# ! pip install opensea"
   ]
  },
  {
   "cell_type": "code",
   "execution_count": 3,
   "id": "2035d69d",
   "metadata": {},
   "outputs": [],
   "source": [
    "from opensea import OpenseaAPI\n",
    "import pandas as pd\n",
    "import requests\n",
    "import json"
   ]
  },
  {
   "cell_type": "code",
   "execution_count": 4,
   "id": "306a0587",
   "metadata": {},
   "outputs": [],
   "source": [
    "api = OpenseaAPI(apikey='')"
   ]
  },
  {
   "cell_type": "code",
   "execution_count": 5,
   "id": "656cd9db",
   "metadata": {},
   "outputs": [],
   "source": [
    "# Test - fetch a single asset\n",
    "contract_address = \"0x495f947276749Ce646f68AC8c248420045cb7b5e\"\n",
    "token_id = \"66406747123743156841746366950152533278033835913591691491127082341586364792833\"\n",
    "result = api.asset(asset_contract_address=contract_address, token_id=token_id)\n",
    "#result"
   ]
  },
  {
   "cell_type": "code",
   "execution_count": 6,
   "id": "8d7645cf",
   "metadata": {},
   "outputs": [],
   "source": [
    "result1 = api.assets(owner=\"0x5a1929628b4d0c511a6f29855229c78ea27c42f8\", limit=3)\n",
    "#result1"
   ]
  },
  {
   "cell_type": "code",
   "execution_count": 7,
   "id": "757a9021",
   "metadata": {},
   "outputs": [],
   "source": [
    "result2 = api.contract(asset_contract_address=\"0x0e3a2a1f2146d86a604adc220b4967a898d7fe07\")\n",
    "#result2"
   ]
  },
  {
   "cell_type": "code",
   "execution_count": 8,
   "id": "b860e5d7",
   "metadata": {},
   "outputs": [],
   "source": [
    "result3 = api.collections(asset_owner=\"0x5a1929628b4d0c511a6f29855229c78ea27c42f8\", limit=3)\n",
    "#result3"
   ]
  },
  {
   "cell_type": "code",
   "execution_count": 9,
   "id": "66c14bed",
   "metadata": {},
   "outputs": [
    {
     "name": "stdout",
     "output_type": "stream",
     "text": [
      "safelist_request_status: verified\n",
      "is_subject_to_whitelist: False\n"
     ]
    }
   ],
   "source": [
    "base_url = \"https://api.opensea.io/api/v1/collection/\"\n",
    "collection_name = 'cryptokitties'\n",
    "url = base_url+collection_name\n",
    "response = requests.get(url)\n",
    "ck_dict = json.loads(response.text)\n",
    "print('safelist_request_status:', ck_dict['collection']['safelist_request_status'])\n",
    "print('is_subject_to_whitelist:', ck_dict['collection']['is_subject_to_whitelist'])"
   ]
  },
  {
   "cell_type": "code",
   "execution_count": 10,
   "id": "fd76e84f",
   "metadata": {},
   "outputs": [],
   "source": [
    "collections = pd.read_csv('collections.csv', index_col=0)\n",
    "collections = list(collections['0'])"
   ]
  },
  {
   "cell_type": "code",
   "execution_count": 11,
   "id": "5e425987",
   "metadata": {},
   "outputs": [
    {
     "data": {
      "text/plain": [
       "\"safelist = []\\nopensea_wlist = []\\nfor c in collections[0:5]:\\n    url = base_url + c.lower()\\n    response = requests.get(url)\\n    if response.ok is True:\\n        json_response = json.loads(response.text)\\n        safelist.append(json_response['collection']['safelist_request_status'])\\n        opensea_wlist.append(json_response['collection']['is_subject_to_whitelist'])\\n    else:\\n        safelist.append('NA')\\n        opensea_wlist.append('NA')\\n\\nopensea_labels = pd.DataFrame({'collection':collections, 'safelist':safelist, 'whitelist':opensea_wlist})\\nopensea_labels.to_csv('opensea_labels.csv')\""
      ]
     },
     "execution_count": 11,
     "metadata": {},
     "output_type": "execute_result"
    }
   ],
   "source": [
    "# Ran this code to generate opensea_labels.csv\n",
    "'''safelist = []\n",
    "opensea_wlist = []\n",
    "for c in collections[0:5]:\n",
    "    url = base_url + c.lower()\n",
    "    response = requests.get(url)\n",
    "    if response.ok is True:\n",
    "        json_response = json.loads(response.text)\n",
    "        safelist.append(json_response['collection']['safelist_request_status'])\n",
    "        opensea_wlist.append(json_response['collection']['is_subject_to_whitelist'])\n",
    "    else:\n",
    "        safelist.append('NA')\n",
    "        opensea_wlist.append('NA')\n",
    "\n",
    "opensea_labels = pd.DataFrame({'collection':collections, 'safelist':safelist, 'whitelist':opensea_wlist})\n",
    "opensea_labels.to_csv('opensea_labels.csv')'''"
   ]
  },
  {
   "cell_type": "code",
   "execution_count": 12,
   "id": "df89bb06",
   "metadata": {},
   "outputs": [
    {
     "data": {
      "text/html": [
       "<div>\n",
       "<style scoped>\n",
       "    .dataframe tbody tr th:only-of-type {\n",
       "        vertical-align: middle;\n",
       "    }\n",
       "\n",
       "    .dataframe tbody tr th {\n",
       "        vertical-align: top;\n",
       "    }\n",
       "\n",
       "    .dataframe thead th {\n",
       "        text-align: right;\n",
       "    }\n",
       "</style>\n",
       "<table border=\"1\" class=\"dataframe\">\n",
       "  <thead>\n",
       "    <tr style=\"text-align: right;\">\n",
       "      <th></th>\n",
       "      <th>collection</th>\n",
       "      <th>safelist</th>\n",
       "      <th>whitelist</th>\n",
       "    </tr>\n",
       "  </thead>\n",
       "  <tbody>\n",
       "    <tr>\n",
       "      <th>0</th>\n",
       "      <td>0-domains</td>\n",
       "      <td>NaN</td>\n",
       "      <td>NaN</td>\n",
       "    </tr>\n",
       "    <tr>\n",
       "      <th>1</th>\n",
       "      <td>0x-meets-imtoken</td>\n",
       "      <td>NaN</td>\n",
       "      <td>NaN</td>\n",
       "    </tr>\n",
       "    <tr>\n",
       "      <th>2</th>\n",
       "      <td>0x001ba7dc2ddfa893c17b6b478c9853b83fc8594c</td>\n",
       "      <td>approved</td>\n",
       "      <td>False</td>\n",
       "    </tr>\n",
       "    <tr>\n",
       "      <th>3</th>\n",
       "      <td>0xbitcoinmemes</td>\n",
       "      <td>approved</td>\n",
       "      <td>False</td>\n",
       "    </tr>\n",
       "    <tr>\n",
       "      <th>4</th>\n",
       "      <td>0xearth</td>\n",
       "      <td>approved</td>\n",
       "      <td>False</td>\n",
       "    </tr>\n",
       "    <tr>\n",
       "      <th>...</th>\n",
       "      <td>...</td>\n",
       "      <td>...</td>\n",
       "      <td>...</td>\n",
       "    </tr>\n",
       "    <tr>\n",
       "      <th>6278</th>\n",
       "      <td>zodiacstars1</td>\n",
       "      <td>NaN</td>\n",
       "      <td>NaN</td>\n",
       "    </tr>\n",
       "    <tr>\n",
       "      <th>6279</th>\n",
       "      <td>zombaeseries</td>\n",
       "      <td>NaN</td>\n",
       "      <td>NaN</td>\n",
       "    </tr>\n",
       "    <tr>\n",
       "      <th>6280</th>\n",
       "      <td>zombieartist</td>\n",
       "      <td>NaN</td>\n",
       "      <td>NaN</td>\n",
       "    </tr>\n",
       "    <tr>\n",
       "      <th>6281</th>\n",
       "      <td>zombiesperks</td>\n",
       "      <td>NaN</td>\n",
       "      <td>NaN</td>\n",
       "    </tr>\n",
       "    <tr>\n",
       "      <th>6282</th>\n",
       "      <td>zweihspacert</td>\n",
       "      <td>NaN</td>\n",
       "      <td>NaN</td>\n",
       "    </tr>\n",
       "  </tbody>\n",
       "</table>\n",
       "<p>6283 rows × 3 columns</p>\n",
       "</div>"
      ],
      "text/plain": [
       "                                      collection  safelist whitelist\n",
       "0                                      0-domains       NaN       NaN\n",
       "1                               0x-meets-imtoken       NaN       NaN\n",
       "2     0x001ba7dc2ddfa893c17b6b478c9853b83fc8594c  approved     False\n",
       "3                                 0xbitcoinmemes  approved     False\n",
       "4                                        0xearth  approved     False\n",
       "...                                          ...       ...       ...\n",
       "6278                                zodiacstars1       NaN       NaN\n",
       "6279                                zombaeseries       NaN       NaN\n",
       "6280                                zombieartist       NaN       NaN\n",
       "6281                                zombiesperks       NaN       NaN\n",
       "6282                                zweihspacert       NaN       NaN\n",
       "\n",
       "[6283 rows x 3 columns]"
      ]
     },
     "execution_count": 12,
     "metadata": {},
     "output_type": "execute_result"
    }
   ],
   "source": [
    "opensea_labels = pd.read_csv('opensea_labels.csv', index_col=0)\n",
    "opensea_labels"
   ]
  },
  {
   "cell_type": "code",
   "execution_count": 13,
   "id": "7351942f",
   "metadata": {},
   "outputs": [
    {
     "data": {
      "text/plain": [
       "approved         1567\n",
       "verified          265\n",
       "not_requested      39\n",
       "requested          14\n",
       "Name: safelist, dtype: int64"
      ]
     },
     "execution_count": 13,
     "metadata": {},
     "output_type": "execute_result"
    }
   ],
   "source": [
    "opensea_labels['safelist'].value_counts()"
   ]
  },
  {
   "cell_type": "code",
   "execution_count": 14,
   "id": "7a1da8b1",
   "metadata": {},
   "outputs": [
    {
     "data": {
      "text/plain": [
       "False    1884\n",
       "True        1\n",
       "Name: whitelist, dtype: int64"
      ]
     },
     "execution_count": 14,
     "metadata": {},
     "output_type": "execute_result"
    }
   ],
   "source": [
    "opensea_labels['whitelist'].value_counts()"
   ]
  },
  {
   "cell_type": "code",
   "execution_count": 15,
   "id": "4169e162",
   "metadata": {},
   "outputs": [
    {
     "data": {
      "text/html": [
       "<div>\n",
       "<style scoped>\n",
       "    .dataframe tbody tr th:only-of-type {\n",
       "        vertical-align: middle;\n",
       "    }\n",
       "\n",
       "    .dataframe tbody tr th {\n",
       "        vertical-align: top;\n",
       "    }\n",
       "\n",
       "    .dataframe thead th {\n",
       "        text-align: right;\n",
       "    }\n",
       "</style>\n",
       "<table border=\"1\" class=\"dataframe\">\n",
       "  <thead>\n",
       "    <tr style=\"text-align: right;\">\n",
       "      <th></th>\n",
       "      <th>collection</th>\n",
       "      <th>safelist</th>\n",
       "      <th>whitelist</th>\n",
       "    </tr>\n",
       "  </thead>\n",
       "  <tbody>\n",
       "    <tr>\n",
       "      <th>2807</th>\n",
       "      <td>Polyient-games</td>\n",
       "      <td>approved</td>\n",
       "      <td>True</td>\n",
       "    </tr>\n",
       "  </tbody>\n",
       "</table>\n",
       "</div>"
      ],
      "text/plain": [
       "          collection  safelist whitelist\n",
       "2807  Polyient-games  approved      True"
      ]
     },
     "execution_count": 15,
     "metadata": {},
     "output_type": "execute_result"
    }
   ],
   "source": [
    "opensea_labels[opensea_labels['whitelist']==True]"
   ]
  }
 ],
 "metadata": {
  "kernelspec": {
   "display_name": "Python 3",
   "language": "python",
   "name": "python3"
  },
  "language_info": {
   "codemirror_mode": {
    "name": "ipython",
    "version": 3
   },
   "file_extension": ".py",
   "mimetype": "text/x-python",
   "name": "python",
   "nbconvert_exporter": "python",
   "pygments_lexer": "ipython3",
   "version": "3.7.10"
  }
 },
 "nbformat": 4,
 "nbformat_minor": 5
}
