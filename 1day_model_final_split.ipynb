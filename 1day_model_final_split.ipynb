{
 "cells": [
  {
   "cell_type": "code",
   "execution_count": 1,
   "id": "b8731e73",
   "metadata": {},
   "outputs": [
    {
     "name": "stderr",
     "output_type": "stream",
     "text": [
      "C:\\Users\\allep\\anaconda3\\envs\\MyEnv3_7\\lib\\site-packages\\tqdm\\auto.py:22: TqdmWarning: IProgress not found. Please update jupyter and ipywidgets. See https://ipywidgets.readthedocs.io/en/stable/user_install.html\n",
      "  from .autonotebook import tqdm as notebook_tqdm\n"
     ]
    }
   ],
   "source": [
    "import pandas as pd\n",
    "import numpy as np\n",
    "\n",
    "import torch\n",
    "import torch.autograd as autograd\n",
    "import torch.nn as nn\n",
    "import torch.nn.functional as F\n",
    "import torch.optim as optim\n",
    "from torch.utils.data import Dataset, DataLoader\n",
    "from torchvision import datasets\n",
    "from torchvision.transforms import ToTensor\n",
    "\n",
    "import pytorch_lightning as pl\n",
    "import seaborn as sns\n",
    "from pylab import rcParams\n",
    "\n",
    "import matplotlib.pyplot as plt\n",
    "from matplotlib import rc\n",
    "from matplotlib.ticker import MaxNLocator\n",
    "\n",
    "#from sklearn.model_selection import StratifiedShuffleSplit\n",
    "#from sklearn.model_selection import train_test_split\n",
    "from sklearn.preprocessing import LabelEncoder\n",
    "\n",
    "from multiprocessing import cpu_count\n",
    "from pytorch_lightning.callbacks import ModelCheckpoint, EarlyStopping\n",
    "from pytorch_lightning.loggers import TensorBoardLogger\n",
    "from torchmetrics.functional import accuracy\n",
    "from sklearn.metrics import classification_report, confusion_matrix\n",
    "from sklearn.preprocessing import StandardScaler\n",
    "\n",
    "import copy\n",
    "\n",
    "from keras.layers import Conv1D, Dense, Dropout, Input, Concatenate, GlobalMaxPooling1D, MaxPooling1D\n",
    "from keras.models import Model\n",
    "from tensorflow import keras\n",
    "import tensorflow as tf\n",
    "# from keras.optimizers import RMSprop, adam"
   ]
  },
  {
   "cell_type": "code",
   "execution_count": 5,
   "id": "480f5a64",
   "metadata": {},
   "outputs": [
    {
     "data": {
      "text/plain": [
       "'C:\\\\Users\\\\allep\\\\SMU_MSDS_CAPSTONE_2022'"
      ]
     },
     "execution_count": 5,
     "metadata": {},
     "output_type": "execute_result"
    }
   ],
   "source": [
    "import os\n",
    "os.chdir('C:\\\\Users\\\\allep\\\\SMU_MSDS_CAPSTONE_2022')\n",
    "os.getcwd()"
   ]
  },
  {
   "cell_type": "code",
   "execution_count": 6,
   "id": "fc2cdb57",
   "metadata": {},
   "outputs": [],
   "source": [
    "day1_dataset_1min = pd.read_csv('Data Slices/day1_dataset_1min_10Aug2022.csv')\n",
    "day1_dataset_10min = pd.read_csv('Data Slices/day1_dataset_10min_10Aug2022.csv')\n",
    "day1_dataset_30min = pd.read_csv('Data Slices/day1_dataset_30min_10Aug2022.csv')\n",
    "day1_dataset_60min = pd.read_csv('Data Slices/day1_dataset_60min_10Aug2022.csv')"
   ]
  },
  {
   "cell_type": "code",
   "execution_count": 10,
   "id": "257dc284",
   "metadata": {},
   "outputs": [
    {
     "data": {
      "text/html": [
       "<div>\n",
       "<style scoped>\n",
       "    .dataframe tbody tr th:only-of-type {\n",
       "        vertical-align: middle;\n",
       "    }\n",
       "\n",
       "    .dataframe tbody tr th {\n",
       "        vertical-align: top;\n",
       "    }\n",
       "\n",
       "    .dataframe thead th {\n",
       "        text-align: right;\n",
       "    }\n",
       "</style>\n",
       "<table border=\"1\" class=\"dataframe\">\n",
       "  <thead>\n",
       "    <tr style=\"text-align: right;\">\n",
       "      <th></th>\n",
       "      <th>collection</th>\n",
       "      <th>blacklisted</th>\n",
       "      <th>train_val_set</th>\n",
       "      <th>kmeans_clusters</th>\n",
       "    </tr>\n",
       "  </thead>\n",
       "  <tbody>\n",
       "    <tr>\n",
       "      <th>0</th>\n",
       "      <td>1amazingbook</td>\n",
       "      <td>0</td>\n",
       "      <td>Validation</td>\n",
       "      <td>4</td>\n",
       "    </tr>\n",
       "    <tr>\n",
       "      <th>1</th>\n",
       "      <td>1bitcoinlive</td>\n",
       "      <td>0</td>\n",
       "      <td>Training</td>\n",
       "      <td>1</td>\n",
       "    </tr>\n",
       "    <tr>\n",
       "      <th>2</th>\n",
       "      <td>1bodyinmove1</td>\n",
       "      <td>0</td>\n",
       "      <td>Training</td>\n",
       "      <td>1</td>\n",
       "    </tr>\n",
       "    <tr>\n",
       "      <th>3</th>\n",
       "      <td>1coolartnft1</td>\n",
       "      <td>0</td>\n",
       "      <td>Training</td>\n",
       "      <td>4</td>\n",
       "    </tr>\n",
       "    <tr>\n",
       "      <th>4</th>\n",
       "      <td>1forthebirds</td>\n",
       "      <td>0</td>\n",
       "      <td>Validation</td>\n",
       "      <td>4</td>\n",
       "    </tr>\n",
       "    <tr>\n",
       "      <th>...</th>\n",
       "      <td>...</td>\n",
       "      <td>...</td>\n",
       "      <td>...</td>\n",
       "      <td>...</td>\n",
       "    </tr>\n",
       "    <tr>\n",
       "      <th>980</th>\n",
       "      <td>zeugencorona</td>\n",
       "      <td>1</td>\n",
       "      <td>Training</td>\n",
       "      <td>4</td>\n",
       "    </tr>\n",
       "    <tr>\n",
       "      <th>981</th>\n",
       "      <td>zippergirls1</td>\n",
       "      <td>0</td>\n",
       "      <td>Training</td>\n",
       "      <td>1</td>\n",
       "    </tr>\n",
       "    <tr>\n",
       "      <th>982</th>\n",
       "      <td>zlfhomedecor</td>\n",
       "      <td>0</td>\n",
       "      <td>Training</td>\n",
       "      <td>4</td>\n",
       "    </tr>\n",
       "    <tr>\n",
       "      <th>983</th>\n",
       "      <td>zombaeseries</td>\n",
       "      <td>0</td>\n",
       "      <td>Training</td>\n",
       "      <td>1</td>\n",
       "    </tr>\n",
       "    <tr>\n",
       "      <th>984</th>\n",
       "      <td>zombieartist</td>\n",
       "      <td>0</td>\n",
       "      <td>Training</td>\n",
       "      <td>4</td>\n",
       "    </tr>\n",
       "  </tbody>\n",
       "</table>\n",
       "<p>985 rows × 4 columns</p>\n",
       "</div>"
      ],
      "text/plain": [
       "       collection  blacklisted train_val_set  kmeans_clusters\n",
       "0    1amazingbook            0    Validation                4\n",
       "1    1bitcoinlive            0      Training                1\n",
       "2    1bodyinmove1            0      Training                1\n",
       "3    1coolartnft1            0      Training                4\n",
       "4    1forthebirds            0    Validation                4\n",
       "..            ...          ...           ...              ...\n",
       "980  zeugencorona            1      Training                4\n",
       "981  zippergirls1            0      Training                1\n",
       "982  zlfhomedecor            0      Training                4\n",
       "983  zombaeseries            0      Training                1\n",
       "984  zombieartist            0      Training                4\n",
       "\n",
       "[985 rows x 4 columns]"
      ]
     },
     "execution_count": 10,
     "metadata": {},
     "output_type": "execute_result"
    }
   ],
   "source": [
    "clustered_collections = pd.read_csv('clustered_modeling/NFT_Kmeans_Train_Val.csv')\n",
    "clustered_collections"
   ]
  },
  {
   "cell_type": "code",
   "execution_count": 7,
   "id": "d2a03687",
   "metadata": {},
   "outputs": [],
   "source": [
    "from typing import Dict, List, Tuple\n",
    "from enum import Enum\n",
    "\n",
    "\n",
    "class DatasetType(Enum):\n",
    "    TRAINING = 'Training'\n",
    "    VALIDATION = 'Validation'\n",
    "    \n",
    "class Aggregation(Enum):\n",
    "    ONE_MIN = 1\n",
    "    TEN_MIN = 2\n",
    "    THIRTHY_MIN = 3\n",
    "    SIXTY_MIN = 4\n",
    "\n",
    "class Collection:\n",
    "    def __init__(self, name, aggregations:  Dict[Aggregation, pd.DataFrame] = dict(), blacklisted=0):\n",
    "        self.name = name\n",
    "        self.aggregations: Dict[Aggregation, pd.Dataframe] = aggregations\n",
    "        self.blacklisted = blacklisted\n",
    "    \n",
    "    def get_aggregation(self, aggregation: Aggregation):\n",
    "        return self.aggregations.get(aggregation)\n",
    "    \n",
    "    def add_aggregation(self,aggregation: Aggregation, a_df: pd.DataFrame):\n",
    "        self.aggregations[aggregation] = a_df.copy()\n"
   ]
  },
  {
   "cell_type": "code",
   "execution_count": 8,
   "id": "64dc6ed2",
   "metadata": {},
   "outputs": [],
   "source": [
    "class Dataset:\n",
    "    def __init__(self, ds_type: DatasetType, cluster,  collections: List[Collection] = None, columns = []):\n",
    "        self.collections = []\n",
    "        self.ds_type = ds_type\n",
    "        self.columns = columns\n",
    "        \n",
    "    def add(self, collection: Collection):\n",
    "        self.collections.append(collection)\n",
    "        \n",
    "    def concat(self, aggregation):\n",
    "        return pd.concat(\n",
    "            [collection.get_aggregation(aggregation) for collection in self.collections], ignore_index=True)\n",
    "    \n",
    "    def fit(self, aggregation, scaler):\n",
    "        scaler.fit(self.concat(aggregation)[self.columns])\n",
    "    \n",
    "    def transform(self, aggregation, scaler: StandardScaler):\n",
    "        for collection in self.collections:\n",
    "            all_columns = collection.get_aggregation(aggregation).copy()\n",
    "            internal_df = all_columns[self.columns].copy()\n",
    "            internal_df = scaler.transform(internal_df)\n",
    "            collection.add_aggregation(\n",
    "                aggregation, internal_df.copy())\n",
    "    \n",
    "    @property\n",
    "    def length(self):\n",
    "        return len(self.collections)\n",
    "            \n",
    "    def format(self):\n",
    "        x_arr = []\n",
    "        for agg in Aggregation:\n",
    "            x = [collection.get_aggregation(agg) for collection in self.collections]\n",
    "            shape = x[0].shape\n",
    "            x =  np.stack(x)\n",
    "            x = x.reshape(self.length, shape[0], shape[1])\n",
    "            x_arr.append(x)\n",
    "        return x_arr, [collection.blacklisted for collection in self.collections]\n",
    "        "
   ]
  },
  {
   "cell_type": "code",
   "execution_count": 9,
   "id": "a67321f5",
   "metadata": {},
   "outputs": [],
   "source": [
    "class MCNNModel:\n",
    "\n",
    "    def __init__(self,  training: Dataset, validation: Dataset, cluster,  \n",
    "                 filters = [200,200,200,200], \n",
    "                 k_sizes= [500,50,30,20],\n",
    "                 batch_size = 50\n",
    "                ):\n",
    "        self.training = training\n",
    "        self.validation = validation\n",
    "        self.cluster = cluster\n",
    "        self.scalers =   {agg: StandardScaler() for agg in Aggregation}\n",
    "        self.filters = filters\n",
    "        self.k_sizes = k_sizes\n",
    "        self.batch_size = 50\n",
    "        self.model = None\n",
    "        self.model_hist = None\n",
    "        self.scaled = False\n",
    "        \n",
    "    def scale(self):\n",
    "        if not self.scaled:\n",
    "            for agg in Aggregation:\n",
    "                print('fitting aggregation', agg)\n",
    "                self.training.fit(agg, self.scalers.get(agg))\n",
    "                print('transforming aggregation', agg)\n",
    "                self.training.transform(agg, self.scalers.get(agg))\n",
    "                self.validation.transform(agg, self.scalers.get(agg))\n",
    "            self.scaled = True\n",
    "            \n",
    "            \n",
    "    def retrieve_tensor_datasets(self):\n",
    "        train_x, train_y = self.training.format()\n",
    "        validation_x, validation_y = self.validation.format()\n",
    "        formatted_train = ({f'input{n}': data for n, data in enumerate(train_x) }, train_y)\n",
    "        formatted_test = ({f'input{n}': data for n, data in enumerate(validation_x) }, validation_y)\n",
    "        train_dataset = tf.data.Dataset.from_tensor_slices(formatted_train).batch(200)\n",
    "        test_dataset = tf.data.Dataset.from_tensor_slices(formatted_test).batch(200)\n",
    "        return train_dataset, test_dataset\n",
    "    \n",
    "    @property\n",
    "    def shapes(self):\n",
    "        return [aggregation_type.shape \n",
    "                for aggregation_type in list(self.training.collections[0].aggregations.values())]\n",
    "    \n",
    "    @staticmethod\n",
    "    def get_base_model(shape, k_size, num_filters):\n",
    "        print(\"base model shape\", shape)\n",
    "        input_seq = Input(shape=shape)\n",
    "        nb_filters = num_filters\n",
    "        convolved = Conv1D(num_filters, k_size, padding=\"same\", activation=\"relu\")(input_seq)\n",
    "        processed = GlobalMaxPooling1D()(convolved)\n",
    "        #todo: fix maxpooling\n",
    "    #     processed = MaxPooling1D(pool_size=2, strides=1, padding='same')(convolved)\n",
    "        compressed = Dense(100, activation=\"relu\")(processed)\n",
    "        compressed = Dropout(0.3)(compressed)\n",
    "        model = Model(inputs=input_seq, outputs=compressed)\n",
    "        model.summary()\n",
    "        return model\n",
    "    \n",
    "    @staticmethod\n",
    "    def main_model(shapes, filters, k_sizes):\n",
    "        inputs = [Input(shape=shape, name=f'input{n}')for n, shape in enumerate(shapes)]\n",
    "        sub_models = [ MCNNModel.get_base_model(shape, k_size = k_sizes[n], num_filters=filters[n]) \n",
    "                      for n, shape in enumerate(shapes)]\n",
    "        print(sub_models[0].output)\n",
    "        embeddings = [ model(inputs[n]) for n, model in enumerate(sub_models)]\n",
    "        merged = Concatenate()(embeddings)\n",
    "        #todo: tweak dense be modifiable \n",
    "        layer1 = Dense(100, activation='relu', name ='hidden_layer1')(merged)\n",
    "        layer2 = Dense(50, activation='relu', name ='hidden_layer2')(layer1)\n",
    "        layer3 = Dense(25, activation='relu', name ='hidden_layer3')(layer2)\n",
    "        out = Dense(1, activation='sigmoid')(layer3)\n",
    "        model = Model(inputs=inputs, outputs=out)\n",
    "        return model\n",
    "    \n",
    "    def run_model(self):\n",
    "        train, validation = self.retrieve_tensor_datasets()\n",
    "        model_shapes = self.shapes\n",
    "        filters = self.filters\n",
    "        k_sizes = self.k_sizes\n",
    "        es = keras.callbacks.EarlyStopping(min_delta=0.001, patience=10)\n",
    "        model = MCNNModel.main_model(model_shapes, filters, k_sizes)\n",
    "        model.compile(loss='binary_crossentropy', # categorical_crossentropy\n",
    "                              optimizer='adam', #sgd, nadam, adam, rmsprop\n",
    "                              metrics=['binary_accuracy', tf.keras.metrics.Precision(), tf.keras.metrics.Recall(),\n",
    "                                       tf.keras.metrics.AUC(curve='PR')])\n",
    "        model.summary()\n",
    "        model_hist = model.fit(train,\n",
    "                                   validation_data=validation,\n",
    "                                   batch_size=self.batch_size, epochs=2000, \n",
    "                               callbacks=[es]\n",
    "                              )\n",
    "        self.model = model\n",
    "        self.model_hist = model_hist\n",
    "        return self\n",
    "    \n",
    "    def predict(self):\n",
    "        val_x, val_y = self.validation.format()\n",
    "        if self.model:\n",
    "            result = self.model.predict(val_x)\n",
    "            return [result[0] for result in results], val_y\n",
    "        else:\n",
    "            return [], []"
   ]
  },
  {
   "cell_type": "code",
   "execution_count": 17,
   "id": "972a1ab9",
   "metadata": {},
   "outputs": [],
   "source": [
    "def create_singular_mcnn():\n",
    "    columns = ['Price_USD','Price_Crypto','densities','vertex_count','edge_count','volume']\n",
    "    training = Dataset(ds_type=DatasetType.TRAINING, cluster = None,columns=columns )\n",
    "    validation = Dataset(ds_type=DatasetType.VALIDATION, \n",
    "                             cluster = None, \n",
    "                             columns = columns)\n",
    "    for row in clustered_collections.itertuples(index=False, name=None):\n",
    "        collection = Collection(name=row[0], blacklisted=row[1])\n",
    "        ds_type = row[2]\n",
    "        for aggregation in [(Aggregation.ONE_MIN, day1_dataset_1min), (Aggregation.TEN_MIN, day1_dataset_10min), \n",
    "                       (Aggregation.THIRTHY_MIN, day1_dataset_30min),(Aggregation.SIXTY_MIN, day1_dataset_60min) ]:\n",
    "                collection.add_aggregation(aggregation[0], aggregation[1].loc[aggregation[1]['collection'] == collection.name].copy())\n",
    "        if ds_type == DatasetType.TRAINING.value:\n",
    "            training.add(copy.deepcopy(collection))\n",
    "        elif ds_type == DatasetType.VALIDATION.value:\n",
    "            validation.add(copy.deepcopy(collection))\n",
    "    return MCNNModel(training = training, validation = validation, cluster = None)"
   ]
  },
  {
   "cell_type": "code",
   "execution_count": 18,
   "id": "2514371a",
   "metadata": {
    "scrolled": true
   },
   "outputs": [],
   "source": [
    "first_model_tuned = create_singular_mcnn()"
   ]
  },
  {
   "cell_type": "code",
   "execution_count": 20,
   "id": "3f288fc0",
   "metadata": {},
   "outputs": [
    {
     "data": {
      "text/plain": [
       "739"
      ]
     },
     "execution_count": 20,
     "metadata": {},
     "output_type": "execute_result"
    }
   ],
   "source": [
    "first_model_tuned.training.length"
   ]
  },
  {
   "cell_type": "code",
   "execution_count": 21,
   "id": "84d7ce27",
   "metadata": {},
   "outputs": [
    {
     "data": {
      "text/plain": [
       "246"
      ]
     },
     "execution_count": 21,
     "metadata": {},
     "output_type": "execute_result"
    }
   ],
   "source": [
    "first_model_tuned.validation.length"
   ]
  },
  {
   "cell_type": "code",
   "execution_count": 23,
   "id": "e59752c4",
   "metadata": {},
   "outputs": [
    {
     "name": "stdout",
     "output_type": "stream",
     "text": [
      "fitting aggregation Aggregation.ONE_MIN\n",
      "transforming aggregation Aggregation.ONE_MIN\n",
      "fitting aggregation Aggregation.TEN_MIN\n",
      "transforming aggregation Aggregation.TEN_MIN\n",
      "fitting aggregation Aggregation.THIRTHY_MIN\n",
      "transforming aggregation Aggregation.THIRTHY_MIN\n",
      "fitting aggregation Aggregation.SIXTY_MIN\n",
      "transforming aggregation Aggregation.SIXTY_MIN\n"
     ]
    }
   ],
   "source": [
    "first_model_tuned.scale()"
   ]
  },
  {
   "cell_type": "code",
   "execution_count": 24,
   "id": "f6186391",
   "metadata": {},
   "outputs": [
    {
     "name": "stdout",
     "output_type": "stream",
     "text": [
      "base model shape (1440, 6)\n",
      "Model: \"model\"\n",
      "_________________________________________________________________\n",
      " Layer (type)                Output Shape              Param #   \n",
      "=================================================================\n",
      " input_1 (InputLayer)        [(None, 1440, 6)]         0         \n",
      "                                                                 \n",
      " conv1d (Conv1D)             (None, 1440, 200)         600200    \n",
      "                                                                 \n",
      " global_max_pooling1d (Globa  (None, 200)              0         \n",
      " lMaxPooling1D)                                                  \n",
      "                                                                 \n",
      " dense (Dense)               (None, 100)               20100     \n",
      "                                                                 \n",
      " dropout (Dropout)           (None, 100)               0         \n",
      "                                                                 \n",
      "=================================================================\n",
      "Total params: 620,300\n",
      "Trainable params: 620,300\n",
      "Non-trainable params: 0\n",
      "_________________________________________________________________\n",
      "base model shape (144, 6)\n",
      "Model: \"model_1\"\n",
      "_________________________________________________________________\n",
      " Layer (type)                Output Shape              Param #   \n",
      "=================================================================\n",
      " input_2 (InputLayer)        [(None, 144, 6)]          0         \n",
      "                                                                 \n",
      " conv1d_1 (Conv1D)           (None, 144, 200)          60200     \n",
      "                                                                 \n",
      " global_max_pooling1d_1 (Glo  (None, 200)              0         \n",
      " balMaxPooling1D)                                                \n",
      "                                                                 \n",
      " dense_1 (Dense)             (None, 100)               20100     \n",
      "                                                                 \n",
      " dropout_1 (Dropout)         (None, 100)               0         \n",
      "                                                                 \n",
      "=================================================================\n",
      "Total params: 80,300\n",
      "Trainable params: 80,300\n",
      "Non-trainable params: 0\n",
      "_________________________________________________________________\n",
      "base model shape (48, 6)\n",
      "Model: \"model_2\"\n",
      "_________________________________________________________________\n",
      " Layer (type)                Output Shape              Param #   \n",
      "=================================================================\n",
      " input_3 (InputLayer)        [(None, 48, 6)]           0         \n",
      "                                                                 \n",
      " conv1d_2 (Conv1D)           (None, 48, 200)           36200     \n",
      "                                                                 \n",
      " global_max_pooling1d_2 (Glo  (None, 200)              0         \n",
      " balMaxPooling1D)                                                \n",
      "                                                                 \n",
      " dense_2 (Dense)             (None, 100)               20100     \n",
      "                                                                 \n",
      " dropout_2 (Dropout)         (None, 100)               0         \n",
      "                                                                 \n",
      "=================================================================\n",
      "Total params: 56,300\n",
      "Trainable params: 56,300\n",
      "Non-trainable params: 0\n",
      "_________________________________________________________________\n",
      "base model shape (24, 6)\n",
      "Model: \"model_3\"\n",
      "_________________________________________________________________\n",
      " Layer (type)                Output Shape              Param #   \n",
      "=================================================================\n",
      " input_4 (InputLayer)        [(None, 24, 6)]           0         \n",
      "                                                                 \n",
      " conv1d_3 (Conv1D)           (None, 24, 200)           24200     \n",
      "                                                                 \n",
      " global_max_pooling1d_3 (Glo  (None, 200)              0         \n",
      " balMaxPooling1D)                                                \n",
      "                                                                 \n",
      " dense_3 (Dense)             (None, 100)               20100     \n",
      "                                                                 \n",
      " dropout_3 (Dropout)         (None, 100)               0         \n",
      "                                                                 \n",
      "=================================================================\n",
      "Total params: 44,300\n",
      "Trainable params: 44,300\n",
      "Non-trainable params: 0\n",
      "_________________________________________________________________\n",
      "KerasTensor(type_spec=TensorSpec(shape=(None, 100), dtype=tf.float32, name=None), name='dropout/Identity:0', description=\"created by layer 'dropout'\")\n",
      "Model: \"model_4\"\n",
      "__________________________________________________________________________________________________\n",
      " Layer (type)                   Output Shape         Param #     Connected to                     \n",
      "==================================================================================================\n",
      " input0 (InputLayer)            [(None, 1440, 6)]    0           []                               \n",
      "                                                                                                  \n",
      " input1 (InputLayer)            [(None, 144, 6)]     0           []                               \n",
      "                                                                                                  \n",
      " input2 (InputLayer)            [(None, 48, 6)]      0           []                               \n",
      "                                                                                                  \n",
      " input3 (InputLayer)            [(None, 24, 6)]      0           []                               \n",
      "                                                                                                  \n",
      " model (Functional)             (None, 100)          620300      ['input0[0][0]']                 \n",
      "                                                                                                  \n",
      " model_1 (Functional)           (None, 100)          80300       ['input1[0][0]']                 \n",
      "                                                                                                  \n",
      " model_2 (Functional)           (None, 100)          56300       ['input2[0][0]']                 \n",
      "                                                                                                  \n",
      " model_3 (Functional)           (None, 100)          44300       ['input3[0][0]']                 \n",
      "                                                                                                  \n",
      " concatenate (Concatenate)      (None, 400)          0           ['model[0][0]',                  \n",
      "                                                                  'model_1[0][0]',                \n",
      "                                                                  'model_2[0][0]',                \n",
      "                                                                  'model_3[0][0]']                \n",
      "                                                                                                  \n",
      " hidden_layer1 (Dense)          (None, 100)          40100       ['concatenate[0][0]']            \n",
      "                                                                                                  \n",
      " hidden_layer2 (Dense)          (None, 50)           5050        ['hidden_layer1[0][0]']          \n",
      "                                                                                                  \n",
      " hidden_layer3 (Dense)          (None, 25)           1275        ['hidden_layer2[0][0]']          \n",
      "                                                                                                  \n",
      " dense_4 (Dense)                (None, 1)            26          ['hidden_layer3[0][0]']          \n",
      "                                                                                                  \n",
      "==================================================================================================\n",
      "Total params: 847,651\n",
      "Trainable params: 847,651\n",
      "Non-trainable params: 0\n",
      "__________________________________________________________________________________________________\n"
     ]
    },
    {
     "name": "stdout",
     "output_type": "stream",
     "text": [
      "Epoch 1/2000\n",
      "4/4 [==============================] - 75s 18s/step - loss: 0.7354 - binary_accuracy: 0.5480 - precision: 0.3439 - recall: 0.6845 - auc: 0.3084 - val_loss: 0.6430 - val_binary_accuracy: 0.7195 - val_precision: 0.0000e+00 - val_recall: 0.0000e+00 - val_auc: 0.3640\n",
      "Epoch 2/2000\n",
      "4/4 [==============================] - 60s 16s/step - loss: 0.6123 - binary_accuracy: 0.7199 - precision: 0.0000e+00 - recall: 0.0000e+00 - auc: 0.3439 - val_loss: 0.6412 - val_binary_accuracy: 0.7195 - val_precision: 0.0000e+00 - val_recall: 0.0000e+00 - val_auc: 0.3622\n",
      "Epoch 3/2000\n",
      "4/4 [==============================] - 59s 15s/step - loss: 0.5971 - binary_accuracy: 0.7185 - precision: 0.0000e+00 - recall: 0.0000e+00 - auc: 0.3050 - val_loss: 0.5745 - val_binary_accuracy: 0.7195 - val_precision: 0.0000e+00 - val_recall: 0.0000e+00 - val_auc: 0.3899\n",
      "Epoch 4/2000\n",
      "4/4 [==============================] - 77s 21s/step - loss: 0.5700 - binary_accuracy: 0.7199 - precision: 0.4000 - recall: 0.0097 - auc: 0.3637 - val_loss: 0.5693 - val_binary_accuracy: 0.7195 - val_precision: 0.0000e+00 - val_recall: 0.0000e+00 - val_auc: 0.3864\n",
      "Epoch 5/2000\n",
      "4/4 [==============================] - 80s 19s/step - loss: 0.5526 - binary_accuracy: 0.7199 - precision: 0.0000e+00 - recall: 0.0000e+00 - auc: 0.3961 - val_loss: 0.5757 - val_binary_accuracy: 0.7195 - val_precision: 0.0000e+00 - val_recall: 0.0000e+00 - val_auc: 0.3768\n",
      "Epoch 6/2000\n",
      "4/4 [==============================] - 79s 20s/step - loss: 0.5560 - binary_accuracy: 0.7212 - precision: 0.5000 - recall: 0.0049 - auc: 0.3806 - val_loss: 0.5671 - val_binary_accuracy: 0.7195 - val_precision: 0.0000e+00 - val_recall: 0.0000e+00 - val_auc: 0.3867\n",
      "Epoch 7/2000\n",
      "4/4 [==============================] - 68s 17s/step - loss: 0.5580 - binary_accuracy: 0.7240 - precision: 1.0000 - recall: 0.0097 - auc: 0.3919 - val_loss: 0.5646 - val_binary_accuracy: 0.7154 - val_precision: 0.0000e+00 - val_recall: 0.0000e+00 - val_auc: 0.3919\n",
      "Epoch 8/2000\n",
      "4/4 [==============================] - 87s 23s/step - loss: 0.5513 - binary_accuracy: 0.7240 - precision: 1.0000 - recall: 0.0097 - auc: 0.3900 - val_loss: 0.5644 - val_binary_accuracy: 0.7195 - val_precision: 0.0000e+00 - val_recall: 0.0000e+00 - val_auc: 0.4025\n",
      "Epoch 9/2000\n",
      "4/4 [==============================] - 85s 22s/step - loss: 0.5438 - binary_accuracy: 0.7240 - precision: 1.0000 - recall: 0.0097 - auc: 0.4137 - val_loss: 0.5680 - val_binary_accuracy: 0.7195 - val_precision: 0.0000e+00 - val_recall: 0.0000e+00 - val_auc: 0.3996\n",
      "Epoch 10/2000\n",
      "4/4 [==============================] - 79s 20s/step - loss: 0.5400 - binary_accuracy: 0.7212 - precision: 0.5000 - recall: 0.0097 - auc: 0.4262 - val_loss: 0.5645 - val_binary_accuracy: 0.7195 - val_precision: 0.0000e+00 - val_recall: 0.0000e+00 - val_auc: 0.4256\n",
      "Epoch 11/2000\n",
      "4/4 [==============================] - 85s 22s/step - loss: 0.5426 - binary_accuracy: 0.7240 - precision: 0.6667 - recall: 0.0194 - auc: 0.4230 - val_loss: 0.5667 - val_binary_accuracy: 0.7154 - val_precision: 0.0000e+00 - val_recall: 0.0000e+00 - val_auc: 0.4222\n",
      "Epoch 12/2000\n",
      "4/4 [==============================] - 92s 22s/step - loss: 0.5390 - binary_accuracy: 0.7280 - precision: 0.8571 - recall: 0.0291 - auc: 0.4543 - val_loss: 0.5727 - val_binary_accuracy: 0.7195 - val_precision: 0.0000e+00 - val_recall: 0.0000e+00 - val_auc: 0.4026\n",
      "Epoch 13/2000\n",
      "4/4 [==============================] - 85s 21s/step - loss: 0.5312 - binary_accuracy: 0.7321 - precision: 0.9000 - recall: 0.0437 - auc: 0.4543 - val_loss: 0.5710 - val_binary_accuracy: 0.7154 - val_precision: 0.0000e+00 - val_recall: 0.0000e+00 - val_auc: 0.4230\n",
      "Epoch 14/2000\n",
      "4/4 [==============================] - 81s 21s/step - loss: 0.5348 - binary_accuracy: 0.7321 - precision: 0.7500 - recall: 0.0583 - auc: 0.4479 - val_loss: 0.5698 - val_binary_accuracy: 0.7154 - val_precision: 0.3333 - val_recall: 0.0145 - val_auc: 0.4255\n",
      "Epoch 15/2000\n",
      "4/4 [==============================] - 83s 21s/step - loss: 0.5239 - binary_accuracy: 0.7280 - precision: 0.7273 - recall: 0.0388 - auc: 0.4722 - val_loss: 0.5675 - val_binary_accuracy: 0.7114 - val_precision: 0.0000e+00 - val_recall: 0.0000e+00 - val_auc: 0.4119\n",
      "Epoch 16/2000\n",
      "4/4 [==============================] - 81s 20s/step - loss: 0.5208 - binary_accuracy: 0.7388 - precision: 0.7826 - recall: 0.0874 - auc: 0.5021 - val_loss: 0.5582 - val_binary_accuracy: 0.7195 - val_precision: 0.5000 - val_recall: 0.0435 - val_auc: 0.4485\n",
      "Epoch 17/2000\n",
      "4/4 [==============================] - 56s 14s/step - loss: 0.5088 - binary_accuracy: 0.7537 - precision: 0.8529 - recall: 0.1408 - auc: 0.5324 - val_loss: 0.5683 - val_binary_accuracy: 0.7154 - val_precision: 0.4000 - val_recall: 0.0290 - val_auc: 0.4215\n",
      "Epoch 18/2000\n",
      "4/4 [==============================] - 38s 10s/step - loss: 0.5023 - binary_accuracy: 0.7402 - precision: 0.6750 - recall: 0.1311 - auc: 0.5355 - val_loss: 0.5426 - val_binary_accuracy: 0.7317 - val_precision: 0.6667 - val_recall: 0.0870 - val_auc: 0.4888\n",
      "Epoch 19/2000\n",
      "4/4 [==============================] - 44s 11s/step - loss: 0.4947 - binary_accuracy: 0.7727 - precision: 0.8519 - recall: 0.2233 - auc: 0.5782 - val_loss: 0.5804 - val_binary_accuracy: 0.7236 - val_precision: 0.5455 - val_recall: 0.0870 - val_auc: 0.4361\n",
      "Epoch 20/2000\n",
      "4/4 [==============================] - 44s 12s/step - loss: 0.5036 - binary_accuracy: 0.7429 - precision: 0.6739 - recall: 0.1505 - auc: 0.5327 - val_loss: 0.5534 - val_binary_accuracy: 0.7276 - val_precision: 0.5833 - val_recall: 0.1014 - val_auc: 0.4849\n",
      "Epoch 21/2000\n",
      "4/4 [==============================] - 46s 11s/step - loss: 0.4727 - binary_accuracy: 0.7700 - precision: 0.7812 - recall: 0.2427 - auc: 0.6098 - val_loss: 0.5818 - val_binary_accuracy: 0.7195 - val_precision: 0.5000 - val_recall: 0.0725 - val_auc: 0.4844\n",
      "Epoch 22/2000\n",
      "4/4 [==============================] - 38s 10s/step - loss: 0.4733 - binary_accuracy: 0.7659 - precision: 0.7895 - recall: 0.2184 - auc: 0.6070 - val_loss: 0.5941 - val_binary_accuracy: 0.7317 - val_precision: 0.6154 - val_recall: 0.1159 - val_auc: 0.4726\n",
      "Epoch 23/2000\n",
      "4/4 [==============================] - 41s 11s/step - loss: 0.4691 - binary_accuracy: 0.7821 - precision: 0.8358 - recall: 0.2718 - auc: 0.6164 - val_loss: 0.5763 - val_binary_accuracy: 0.7439 - val_precision: 0.6875 - val_recall: 0.1594 - val_auc: 0.4916\n",
      "Epoch 24/2000\n",
      "4/4 [==============================] - 47s 12s/step - loss: 0.4506 - binary_accuracy: 0.7794 - precision: 0.8116 - recall: 0.2718 - auc: 0.6427 - val_loss: 0.5706 - val_binary_accuracy: 0.7480 - val_precision: 0.7059 - val_recall: 0.1739 - val_auc: 0.4877\n",
      "Epoch 25/2000\n",
      "4/4 [==============================] - 63s 16s/step - loss: 0.4398 - binary_accuracy: 0.7862 - precision: 0.7927 - recall: 0.3155 - auc: 0.6551 - val_loss: 0.6052 - val_binary_accuracy: 0.7276 - val_precision: 0.5833 - val_recall: 0.1014 - val_auc: 0.4536\n",
      "Epoch 26/2000\n",
      "4/4 [==============================] - 81s 21s/step - loss: 0.4489 - binary_accuracy: 0.7916 - precision: 0.7889 - recall: 0.3447 - auc: 0.6484 - val_loss: 0.6132 - val_binary_accuracy: 0.7276 - val_precision: 0.5833 - val_recall: 0.1014 - val_auc: 0.4716\n",
      "Epoch 27/2000\n",
      "4/4 [==============================] - 88s 23s/step - loss: 0.4485 - binary_accuracy: 0.7794 - precision: 0.8116 - recall: 0.2718 - auc: 0.6418 - val_loss: 0.6032 - val_binary_accuracy: 0.7317 - val_precision: 0.6000 - val_recall: 0.1304 - val_auc: 0.4884\n",
      "Epoch 28/2000\n",
      "4/4 [==============================] - 110s 31s/step - loss: 0.3996 - binary_accuracy: 0.8173 - precision: 0.9383 - recall: 0.3689 - auc: 0.7357 - val_loss: 0.5996 - val_binary_accuracy: 0.7439 - val_precision: 0.6667 - val_recall: 0.1739 - val_auc: 0.5141\n"
     ]
    },
    {
     "data": {
      "text/plain": [
       "<__main__.MCNNModel at 0x212006a7d88>"
      ]
     },
     "execution_count": 24,
     "metadata": {},
     "output_type": "execute_result"
    }
   ],
   "source": [
    "first_model_tuned.run_model()"
   ]
  },
  {
   "cell_type": "code",
   "execution_count": 31,
   "id": "66357305",
   "metadata": {},
   "outputs": [],
   "source": [
    "val_x, val_y = first_model_tuned.validation.format()"
   ]
  },
  {
   "cell_type": "code",
   "execution_count": 37,
   "id": "dd441159",
   "metadata": {},
   "outputs": [],
   "source": [
    "result = first_model_tuned.model.predict(val_x)"
   ]
  },
  {
   "cell_type": "code",
   "execution_count": 55,
   "id": "e4fe8d57",
   "metadata": {},
   "outputs": [],
   "source": [
    "threshold = 0.5\n",
    "all_model_predictions = [1 if i>threshold else 0 for i in result]"
   ]
  },
  {
   "cell_type": "code",
   "execution_count": 40,
   "id": "d1e84dd3",
   "metadata": {},
   "outputs": [],
   "source": [
    "from sklearn.metrics import average_precision_score"
   ]
  },
  {
   "cell_type": "code",
   "execution_count": 42,
   "id": "54438b75",
   "metadata": {},
   "outputs": [
    {
     "data": {
      "text/plain": [
       "0.5204699222676306"
      ]
     },
     "execution_count": 42,
     "metadata": {},
     "output_type": "execute_result"
    }
   ],
   "source": [
    "scores = {}\n",
    "#scores['recall'] = recall_score(val_y, result)\n",
    "#scores['precision'] = precision_score(all_actuals, all_model_predictions)\n",
    "#scores['f1_score'] = f1_score(all_actuals, all_model_predictions)\n",
    "scores['pr_auc'] = average_precision_score(val_y, result)\n",
    "scores['pr_auc']"
   ]
  },
  {
   "cell_type": "code",
   "execution_count": 34,
   "id": "4e7bb43b",
   "metadata": {},
   "outputs": [],
   "source": [
    "def plot_training_curves_auc(history, title=None):\n",
    "    ''' Plot the training curves for loss and accuracy given a model history\n",
    "    '''\n",
    "    # find the minimum loss epoch\n",
    "    minimum = np.min(history.history['val_loss'])\n",
    "    min_loc = np.where(minimum == history.history['val_loss'])[0]\n",
    "    # get the vline y-min and y-max\n",
    "    loss_min, loss_max = (min(history.history['val_loss'] + history.history['loss']),\n",
    "                          max(history.history['val_loss'] + history.history['loss']))\n",
    "    acc_min, acc_max = (min(history.history['val_auc'] + history.history['auc']),\n",
    "                        max(history.history['val_auc'] + history.history['auc']))\n",
    "    # create figure\n",
    "    fig, ax = plt.subplots(ncols=2, figsize = (15,7))\n",
    "    fig.suptitle(title)\n",
    "    index = np.arange(1, len(history.history['auc']) + 1)\n",
    "    # plot the loss and validation loss\n",
    "    ax[0].plot(index, history.history['loss'], label = 'loss')\n",
    "    ax[0].plot(index, history.history['val_loss'], label = 'val_loss')\n",
    "    ax[0].vlines(min_loc + 1, loss_min, loss_max, label = 'min_loss_location')\n",
    "    ax[0].set_title('Loss')\n",
    "    ax[0].set_ylabel('Loss')\n",
    "    ax[0].set_xlabel('Epochs')\n",
    "    ax[0].legend()\n",
    "    # plot the accuracy and validation accuracy\n",
    "    ax[1].plot(index, history.history['auc'], label = 'auc')\n",
    "    ax[1].plot(index, history.history['val_auc'], label = 'val_auc')\n",
    "    ax[1].vlines(min_loc + 1, acc_min, acc_max, label = 'min_loss_location')\n",
    "    ax[1].set_title('AUC')\n",
    "    ax[1].set_ylabel('auc')\n",
    "    ax[1].set_xlabel('Epochs')\n",
    "    ax[1].legend()\n",
    "    plt.show()"
   ]
  },
  {
   "cell_type": "code",
   "execution_count": 35,
   "id": "0ff88ab6",
   "metadata": {},
   "outputs": [
    {
     "data": {
      "image/png": "[encoded data removed]",
      "text/plain": [
       "<Figure size 1500x700 with 2 Axes>"
      ]
     },
     "metadata": {},
     "output_type": "display_data"
    }
   ],
   "source": [
    "plot_training_curves_auc(history=first_model_tuned.model_hist)"
   ]
  },
  {
   "cell_type": "code",
   "execution_count": 43,
   "id": "44675db9",
   "metadata": {},
   "outputs": [],
   "source": [
    "import itertools\n",
    "def get_permutations():\n",
    "    tuning1 = [i*.02 for i in range(int(1/0.02))]\n",
    "    param_comb = []\n",
    "    for subset in itertools.permutations(tuning1, 1):\n",
    "        param_comb.append(subset)\n",
    "    return param_comb"
   ]
  },
  {
   "cell_type": "code",
   "execution_count": 50,
   "id": "8041a720",
   "metadata": {},
   "outputs": [],
   "source": [
    "from sklearn.metrics import accuracy_score, recall_score, precision_score, f1_score, average_precision_score, roc_auc_score"
   ]
  },
  {
   "cell_type": "code",
   "execution_count": 52,
   "id": "0e94bd97",
   "metadata": {},
   "outputs": [
    {
     "name": "stderr",
     "output_type": "stream",
     "text": [
      "C:\\Users\\allep\\anaconda3\\envs\\MyEnv3_7\\lib\\site-packages\\sklearn\\metrics\\_classification.py:1248: UndefinedMetricWarning: Precision is ill-defined and being set to 0.0 due to no predicted samples. Use `zero_division` parameter to control this behavior.\n",
      "  _warn_prf(average, modifier, msg_start, len(result))\n",
      "C:\\Users\\allep\\anaconda3\\envs\\MyEnv3_7\\lib\\site-packages\\sklearn\\metrics\\_classification.py:1248: UndefinedMetricWarning: Precision is ill-defined and being set to 0.0 due to no predicted samples. Use `zero_division` parameter to control this behavior.\n",
      "  _warn_prf(average, modifier, msg_start, len(result))\n",
      "C:\\Users\\allep\\anaconda3\\envs\\MyEnv3_7\\lib\\site-packages\\sklearn\\metrics\\_classification.py:1248: UndefinedMetricWarning: Precision is ill-defined and being set to 0.0 due to no predicted samples. Use `zero_division` parameter to control this behavior.\n",
      "  _warn_prf(average, modifier, msg_start, len(result))\n"
     ]
    }
   ],
   "source": [
    "all_scores = []\n",
    "for params in get_permutations():\n",
    "    #all_model_predictions = []\n",
    "    #all_model_raw_scores = []\n",
    "    #all_actuals = []\n",
    "    all_model_predictions = [1 if prediction > params[0] else 0 for prediction in result]\n",
    "    #all_model_predictions.extend(model_prediction)\n",
    "    #all_model_raw_scores.extend(model[1][0])\n",
    "    #all_actuals.extend(model[1][1])\n",
    "    scores = {}\n",
    "    scores['accuracy'] = accuracy_score(val_y, all_model_predictions)\n",
    "    scores['recall'] = recall_score(val_y, all_model_predictions)\n",
    "    scores['precision'] = precision_score(val_y, all_model_predictions)\n",
    "    scores['f1_score'] = f1_score(val_y, all_model_predictions)\n",
    "    scores['pr_auc'] = average_precision_score(val_y, result) #pr_auc\n",
    "    scores['auc'] = roc_auc_score(val_y, result)\n",
    "    all_scores.append((scores,params))"
   ]
  },
  {
   "cell_type": "code",
   "execution_count": 54,
   "id": "1a9c837a",
   "metadata": {},
   "outputs": [
    {
     "name": "stdout",
     "output_type": "stream",
     "text": [
      "1\n",
      "2\n",
      "3\n",
      "4\n",
      "5\n",
      "6\n",
      "7\n",
      "8\n",
      "12\n",
      "14\n"
     ]
    },
    {
     "data": {
      "text/plain": [
       "({'accuracy': 0.7032520325203252,\n",
       "  'recall': 0.6376811594202898,\n",
       "  'precision': 0.4782608695652174,\n",
       "  'f1_score': 0.5465838509316769,\n",
       "  'pr_auc': 0.5204699222676306,\n",
       "  'auc': 0.7256202407270941},\n",
       " (0.28,))"
      ]
     },
     "execution_count": 54,
     "metadata": {},
     "output_type": "execute_result"
    }
   ],
   "source": [
    "max_f1 = all_scores[0] \n",
    "for idx, score in enumerate(all_scores):\n",
    "    if score[0]['f1_score'] > max_f1[0]['f1_score']:\n",
    "        print(idx)\n",
    "        max_f1 = score\n",
    "max_f1"
   ]
  }
 ],
 "metadata": {
  "kernelspec": {
   "display_name": "Python 3 (ipykernel)",
   "language": "python",
   "name": "python3"
  },
  "language_info": {
   "codemirror_mode": {
    "name": "ipython",
    "version": 3
   },
   "file_extension": ".py",
   "mimetype": "text/x-python",
   "name": "python",
   "nbconvert_exporter": "python",
   "pygments_lexer": "ipython3",
   "version": "3.7.10"
  }
 },
 "nbformat": 4,
 "nbformat_minor": 5
}
