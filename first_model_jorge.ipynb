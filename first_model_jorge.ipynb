{
 "cells": [
  {
   "cell_type": "code",
   "execution_count": 50,
   "metadata": {},
   "outputs": [
    {
     "ename": "ImportError",
     "evalue": "cannot import name 'RMSprop' from 'keras.optimizers' (/opt/anaconda3/lib/python3.8/site-packages/keras/optimizers.py)",
     "output_type": "error",
     "traceback": [
      "\u001b[0;31m---------------------------------------------------------------------------\u001b[0m",
      "\u001b[0;31mImportError\u001b[0m                               Traceback (most recent call last)",
      "\u001b[0;32m<ipython-input-50-383d14fe8139>\u001b[0m in \u001b[0;36m<module>\u001b[0;34m\u001b[0m\n\u001b[1;32m     39\u001b[0m \u001b[0;32mfrom\u001b[0m \u001b[0mtensorflow\u001b[0m \u001b[0;32mimport\u001b[0m \u001b[0mkeras\u001b[0m\u001b[0;34m\u001b[0m\u001b[0;34m\u001b[0m\u001b[0m\n\u001b[1;32m     40\u001b[0m \u001b[0;32mimport\u001b[0m \u001b[0mtensorflow\u001b[0m \u001b[0;32mas\u001b[0m \u001b[0mtf\u001b[0m\u001b[0;34m\u001b[0m\u001b[0;34m\u001b[0m\u001b[0m\n\u001b[0;32m---> 41\u001b[0;31m \u001b[0;32mfrom\u001b[0m \u001b[0mkeras\u001b[0m\u001b[0;34m.\u001b[0m\u001b[0moptimizers\u001b[0m \u001b[0;32mimport\u001b[0m \u001b[0mRMSprop\u001b[0m\u001b[0;34m,\u001b[0m \u001b[0madam\u001b[0m\u001b[0;34m\u001b[0m\u001b[0;34m\u001b[0m\u001b[0m\n\u001b[0m",
      "\u001b[0;31mImportError\u001b[0m: cannot import name 'RMSprop' from 'keras.optimizers' (/opt/anaconda3/lib/python3.8/site-packages/keras/optimizers.py)"
     ]
    }
   ],
   "source": [
    "import pandas as pd\n",
    "import numpy as np\n",
    "\n",
    "#import torch\n",
    "import torch\n",
    "import torch.autograd as autograd\n",
    "import torch.nn as nn\n",
    "import torch.nn.functional as F\n",
    "import torch.optim as optim\n",
    "from torch.utils.data import Dataset, DataLoader\n",
    "from torchvision import datasets\n",
    "from torchvision.transforms import ToTensor\n",
    "\n",
    "import pytorch_lightning as pl\n",
    "import seaborn as sns\n",
    "from pylab import rcParams\n",
    "\n",
    "\n",
    "import matplotlib.pyplot as plt\n",
    "from matplotlib import rc\n",
    "from matplotlib.ticker import MaxNLocator\n",
    "\n",
    "\n",
    "\n",
    "from sklearn.model_selection import train_test_split\n",
    "from sklearn.preprocessing import LabelEncoder\n",
    "\n",
    "from multiprocessing import cpu_count\n",
    "from pytorch_lightning.callbacks import ModelCheckpoint, EarlyStopping\n",
    "from pytorch_lightning.loggers import TensorBoardLogger\n",
    "from torchmetrics.functional import accuracy\n",
    "from sklearn.metrics import classification_report, confusion_matrix\n",
    "from sklearn.preprocessing import StandardScaler\n",
    "\n",
    "\n",
    "\n",
    "from keras.layers import Conv1D, Dense, Dropout, Input, Concatenate, GlobalMaxPooling1D\n",
    "from keras.models import Model\n",
    "from tensorflow import keras\n",
    "import tensorflow as tf\n",
    "# from keras.optimizers import RMSprop, adam"
   ]
  },
  {
   "cell_type": "markdown",
   "metadata": {},
   "source": [
    "## Importing Data"
   ]
  },
  {
   "cell_type": "code",
   "execution_count": 2,
   "metadata": {},
   "outputs": [],
   "source": [
    "day1_dataset_10min = pd.read_csv('Data Slices/day1_dataset_10min_10Aug2022.csv')\n",
    "day1_dataset_30min = pd.read_csv('Data Slices/day1_dataset_30min_10Aug2022.csv')\n",
    "day1_dataset_60min = pd.read_csv('Data Slices/day1_dataset_60min_10Aug2022.csv')"
   ]
  },
  {
   "cell_type": "code",
   "execution_count": null,
   "metadata": {},
   "outputs": [],
   "source": []
  },
  {
   "cell_type": "code",
   "execution_count": 4,
   "metadata": {},
   "outputs": [],
   "source": [
    "def get_X_and_y(df, x_columns, y_columns):\n",
    "    X = df[x_columns]\n",
    "    y = df[y_columns]\n",
    "    return X, y"
   ]
  },
  {
   "cell_type": "code",
   "execution_count": 5,
   "metadata": {},
   "outputs": [],
   "source": [
    "def get_daily_sequences(X, y, feature_columns, sequence_dict = {}):\n",
    "    for collection, group in X.groupby(\"collection\"):\n",
    "        features = group[group.columns.intersection(feature_columns)]\n",
    "        blacklist = y[y.collection == collection].iloc[0].blacklisted\n",
    "        if sequence_dict.get(collection):\n",
    "            sequence_dict[collection][0].append(features)\n",
    "        else:\n",
    "            sequence_dict[collection] = ([features], blacklist)\n",
    "    return sequence_dict"
   ]
  },
  {
   "cell_type": "code",
   "execution_count": 6,
   "metadata": {},
   "outputs": [],
   "source": [
    "def get_daily_sequences(X, y, feature_columns, sequence_dict = {}):\n",
    "    for collection, group in X.groupby(\"collection\"):\n",
    "        features = group[group.columns.intersection(feature_columns)]\n",
    "        blacklist = y[y.collection == collection].iloc[0].blacklisted\n",
    "        if sequence_dict.get(collection):\n",
    "            sequence_dict[collection][0].append(features)\n",
    "        else:\n",
    "            sequence_dict[collection] = ([features], blacklist)\n",
    "    return sequence_dict"
   ]
  },
  {
   "cell_type": "code",
   "execution_count": 7,
   "metadata": {},
   "outputs": [],
   "source": [
    "def scale_dataset(sequences, columns = ['Price_USD', 'Price_Crypto', 'volume', 'densities', 'vertex_count', \n",
    "                              'edge_count','vertext_edge_ratio'], fitted_scaler = None):\n",
    "    collection_blacklist_dict = {sequence[0]:sequence[2] for sequence in sequences}\n",
    "    concat_df = pd.concat([sequence[1] for sequence in sequences])\n",
    "    if fitted_scaler is None:\n",
    "        fitted_scaler = StandardScaler()\n",
    "        fitted_scaler.fit(concat_df[columns])\n",
    "    concat_df[columns] = fitted_scaler.transform(concat_df[columns])\n",
    "    return  [(collection, group[columns], collection_blacklist_dict[collection]) \n",
    "             for collection, group in concat_df.groupby(\"collection\")] , fitted_scaler"
   ]
  },
  {
   "cell_type": "code",
   "execution_count": 8,
   "metadata": {},
   "outputs": [],
   "source": [
    "def get_all_sequences(all_df):\n",
    "    sequence_dict = {}\n",
    "    for df in all_df: \n",
    "        df = df.drop(['Unnamed: 0'], axis=1)\n",
    "        x_columns =  ['Datetime_updated_seconds','Price_USD','Price_Crypto','volume','densities',\n",
    "                   'vertex_count','edge_count','collection']\n",
    "        y_columns = ['blacklisted','collection']\n",
    "        feature_columns=['Price_USD','Price_Crypto','volume',\n",
    "                         'densities', 'vertex_count','edge_count', 'collection', 'vertext_edge_ratio']\n",
    "        X, y= get_X_and_y(df, x_columns, y_columns)\n",
    "        X['vertext_edge_ratio'] = X['vertex_count']/X['edge_count']\n",
    "        sequence_dict = get_daily_sequences(X, y, feature_columns, sequence_dict)\n",
    "    return sequence_dict"
   ]
  },
  {
   "cell_type": "code",
   "execution_count": 10,
   "metadata": {},
   "outputs": [],
   "source": [
    "def retrieve_all_train_test_sequences(all_df):\n",
    "    train_test_sequences = []\n",
    "    all_sequence_dict = get_all_sequences(all_df)\n",
    "        \n",
    "    train_sequences, test_sequences = train_test_split(list(all_sequence_dict.items()), test_size = 0.3)\n",
    "#     for train_s\n",
    "#         scaled_train_sequences, scaler = scale_dataset(train_sequences)\n",
    "#         scaled_test_sequences ,  _ = scale_dataset(test_sequences, fitted_scale r= scaler)\n",
    "    return train_sequences, test_sequences"
   ]
  },
  {
   "cell_type": "code",
   "execution_count": 11,
   "metadata": {},
   "outputs": [
    {
     "name": "stderr",
     "output_type": "stream",
     "text": [
      "<ipython-input-8-f9d6ae458486>:11: SettingWithCopyWarning: \n",
      "A value is trying to be set on a copy of a slice from a DataFrame.\n",
      "Try using .loc[row_indexer,col_indexer] = value instead\n",
      "\n",
      "See the caveats in the documentation: https://pandas.pydata.org/pandas-docs/stable/user_guide/indexing.html#returning-a-view-versus-a-copy\n",
      "  X['vertext_edge_ratio'] = X['vertex_count']/X['edge_count']\n"
     ]
    }
   ],
   "source": [
    "train_sequences, test_sequences = retrieve_all_train_test_sequences([day1_dataset_10min, day1_dataset_30min, day1_dataset_60min])"
   ]
  },
  {
   "cell_type": "code",
   "execution_count": 12,
   "metadata": {},
   "outputs": [],
   "source": [
    "scaled_train_dataset_dict = {}\n",
    "scaled_test_dataset_dict = {}\n",
    "scaled_train_dataset= []\n",
    "scaled_test_dataset= []\n",
    "length = 3\n",
    "for n in range(length):\n",
    "    train_scaled, scaler = scale_dataset([(sequence[0], sequence[1][0][n], sequence[1][1]) for sequence in\n",
    "                                          train_sequences])\n",
    "    test_scaled, _ = scale_dataset([(sequence[0], sequence[1][0][n], sequence[1][1]) for sequence in\n",
    "                                    test_sequences],\n",
    "                  fitted_scaler= scaler)\n",
    "    scaled_train_dataset.append(train_scaled)\n",
    "    scaled_test_dataset.append(test_scaled)\n",
    "    \n",
    "for scale_sequence in scaled_train_dataset:\n",
    "    for collection in scale_sequence:\n",
    "        if scaled_train_dataset_dict.get(collection[0]):\n",
    "            scaled_train_dataset_dict[collection[0]][0].append(collection[1])\n",
    "        else:\n",
    "            scaled_train_dataset_dict[collection[0]] = ([collection[1]], collection[2])\n",
    "\n",
    "    \n",
    "for scale_sequence in scaled_test_dataset:\n",
    "    for collection in scale_sequence:\n",
    "        if scaled_test_dataset_dict.get(collection[0]):\n",
    "            scaled_test_dataset_dict[collection[0]][0].append(collection[1])\n",
    "        else:\n",
    "            scaled_test_dataset_dict[collection[0]] = ([collection[1]], collection[2])"
   ]
  },
  {
   "cell_type": "code",
   "execution_count": null,
   "metadata": {},
   "outputs": [],
   "source": [
    "len(list(scaled_train_dataset_dict.keys()))"
   ]
  },
  {
   "cell_type": "code",
   "execution_count": null,
   "metadata": {},
   "outputs": [],
   "source": [
    "len(list(scaled_test_dataset_dict.keys()))"
   ]
  },
  {
   "cell_type": "code",
   "execution_count": null,
   "metadata": {},
   "outputs": [],
   "source": [
    "list(scaled_test_dataset_dict.values())[1][0][2]"
   ]
  },
  {
   "cell_type": "code",
   "execution_count": null,
   "metadata": {},
   "outputs": [],
   "source": [
    "list(scaled_train_dataset_dict.values())[1][0][2]"
   ]
  },
  {
   "cell_type": "markdown",
   "metadata": {},
   "source": [
    "## Model"
   ]
  },
  {
   "cell_type": "code",
   "execution_count": 13,
   "metadata": {},
   "outputs": [],
   "source": [
    "train_values = list(scaled_train_dataset_dict.values())"
   ]
  },
  {
   "cell_type": "code",
   "execution_count": 14,
   "metadata": {},
   "outputs": [],
   "source": [
    "test_values = list(scaled_test_dataset_dict.values())"
   ]
  },
  {
   "cell_type": "code",
   "execution_count": 15,
   "metadata": {},
   "outputs": [
    {
     "data": {
      "text/plain": [
       "(144, 7)"
      ]
     },
     "execution_count": 15,
     "metadata": {},
     "output_type": "execute_result"
    }
   ],
   "source": [
    "MODEL_SHAPE1  = train_values[0][0][0].shape\n",
    "MODEL_SHAPE1"
   ]
  },
  {
   "cell_type": "code",
   "execution_count": 16,
   "metadata": {},
   "outputs": [
    {
     "data": {
      "text/plain": [
       "(48, 7)"
      ]
     },
     "execution_count": 16,
     "metadata": {},
     "output_type": "execute_result"
    }
   ],
   "source": [
    "MODEL_SHAPE2  = train_values[0][0][1].shape\n",
    "MODEL_SHAPE2"
   ]
  },
  {
   "cell_type": "code",
   "execution_count": 17,
   "metadata": {},
   "outputs": [
    {
     "data": {
      "text/plain": [
       "(24, 7)"
      ]
     },
     "execution_count": 17,
     "metadata": {},
     "output_type": "execute_result"
    }
   ],
   "source": [
    "MODEL_SHAPE3 = train_values[0][0][2].shape\n",
    "MODEL_SHAPE3"
   ]
  },
  {
   "cell_type": "code",
   "execution_count": 147,
   "metadata": {},
   "outputs": [],
   "source": [
    "NUM_FILTERS1 = 10\n",
    "NUM_FILTERS2 = 10\n",
    "NUM_FILTERS3 = 10\n",
    "K_SIZE1 = 10\n",
    "K_SIZE2 = 6\n",
    "K_SIZE3 = 4"
   ]
  },
  {
   "cell_type": "code",
   "execution_count": 148,
   "metadata": {},
   "outputs": [],
   "source": [
    "def get_base_model(shape, k_size = K_SIZE1, num_filters = NUM_FILTERS1):\n",
    "    print(\"base model shape\", shape)\n",
    "    input_seq = Input(shape=shape)\n",
    "    nb_filters = num_filters\n",
    "    convolved = Conv1D(num_filters, k_size, padding=\"same\", activation=\"relu\")(input_seq)\n",
    "    processed = GlobalMaxPooling1D()(convolved)\n",
    "    compressed = Dense(50, activation=\"relu\")(processed)\n",
    "    compressed = Dropout(0.3)(compressed)\n",
    "    model = Model(inputs=input_seq, outputs=compressed)\n",
    "    return model"
   ]
  },
  {
   "cell_type": "code",
   "execution_count": 149,
   "metadata": {},
   "outputs": [],
   "source": [
    "def main_model(shape1, shape2, shape3):\n",
    "    shape1_input = Input(shape=shape1, name='input1')\n",
    "    shape2_input = Input(shape=shape2, name='input2')\n",
    "    shape3_input = Input(shape=shape3, name='input3')\n",
    "    shape1_model = get_base_model(shape1, k_size = K_SIZE1, num_filters=NUM_FILTERS1)\n",
    "    shape2_model = get_base_model(shape2, k_size = K_SIZE2, num_filters=NUM_FILTERS2)\n",
    "    shape3_model = get_base_model(shape3, k_size = K_SIZE3, num_filters=NUM_FILTERS3)\n",
    "    \n",
    "    embedding1 = shape1_model(shape1_input)\n",
    "    embedding2 = shape2_model(shape2_input)\n",
    "    embedding3 = shape3_model(shape3_input)\n",
    "    merged = Concatenate()([embedding1, embedding2, embedding3])\n",
    "    \n",
    "    # todo: add hidden layers\n",
    "    out = Dense(1, activation='sigmoid')(merged)\n",
    "    model = Model(inputs=[shape1_input, shape2_input, shape3_input], outputs=out)\n",
    "    return model"
   ]
  },
  {
   "cell_type": "code",
   "execution_count": 150,
   "metadata": {},
   "outputs": [],
   "source": [
    "def run_model(x_train, y_train, x_test, y_test):\n",
    "    es = keras.callbacks.EarlyStopping(min_delta=0.00001, patience=10)\n",
    "    #data_set = tf.data.Dataset.from_tensor_slices(  (x_train ,y_train) )\n",
    "    model = main_model(MODEL_SHAPE1, MODEL_SHAPE2, MODEL_SHAPE3)\n",
    "    model.compile(loss='binary_crossentropy', # categorical_crossentropy\n",
    "                          optimizer='rmsprop', #sgd, nadam, adam, rmsprop\n",
    "                          metrics=['binary_accuracy', tf.keras.metrics.Precision(), tf.keras.metrics.Recall(),\n",
    "                                   tf.keras.metrics.AUC(curve='PR')])\n",
    "    model.summary()\n",
    "    print('SIZE OF TRAINING DATA', len(x_train))\n",
    "    model_hist = model.fit(x_train,\n",
    "                               validation_data=x_test,\n",
    "                               batch_size=100, epochs=1000, \n",
    "                           callbacks=[es]\n",
    "                          )\n",
    "    return model_hist, model"
   ]
  },
  {
   "cell_type": "code",
   "execution_count": 151,
   "metadata": {},
   "outputs": [],
   "source": [
    "x_train_1 = [sequence[0][0] for sequence in train_values]\n",
    "x_train_2 = [sequence[0][1] for sequence in train_values]\n",
    "x_train_3 = [sequence[0][2] for sequence in train_values]\n",
    "y_train = [sequence[1] for sequence in train_values]"
   ]
  },
  {
   "cell_type": "code",
   "execution_count": 152,
   "metadata": {},
   "outputs": [],
   "source": [
    "X_train1 = np.stack(x_train_1)\n",
    "X_train2 = np.stack(x_train_2)\n",
    "X_train3 = np.stack(x_train_3)"
   ]
  },
  {
   "cell_type": "code",
   "execution_count": 153,
   "metadata": {},
   "outputs": [],
   "source": [
    "X_train1 = X_train1.reshape(696,144,7)\n",
    "X_train2 = X_train2.reshape(696,48,7)\n",
    "X_train3 = X_train3.reshape(696,24,7)"
   ]
  },
  {
   "cell_type": "code",
   "execution_count": 154,
   "metadata": {},
   "outputs": [],
   "source": [
    "x_test_1 = [sequence[0][0] for sequence in test_values]\n",
    "x_test_2 = [sequence[0][1] for sequence in test_values]\n",
    "x_test_3 = [sequence[0][2] for sequence in test_values]\n",
    "y_test = [sequence[1] for sequence in test_values]"
   ]
  },
  {
   "cell_type": "code",
   "execution_count": 155,
   "metadata": {},
   "outputs": [],
   "source": [
    "X_test1 = np.stack(x_test_1)\n",
    "X_test2 = np.stack(x_test_2)\n",
    "X_test3 = np.stack(x_test_3)"
   ]
  },
  {
   "cell_type": "code",
   "execution_count": 156,
   "metadata": {},
   "outputs": [],
   "source": [
    "X_test1 = X_test1.reshape(299,144,7)\n",
    "X_test2 = X_test2.reshape(299,48,7)\n",
    "X_test3 = X_test3.reshape(299,24,7)"
   ]
  },
  {
   "cell_type": "code",
   "execution_count": null,
   "metadata": {},
   "outputs": [],
   "source": [
    "# X_train = [sequence[0].to_numpy() for sequence in scaled_train_sequences]\n",
    "# y_train = [sequence[1] for sequence in scaled_train_sequences]\n",
    "# X_test = [sequence[0].to_numpy() for sequence in scaled_test_sequences]\n",
    "# y_test = [sequence[1] for sequence in scaled_test_sequences]"
   ]
  },
  {
   "cell_type": "code",
   "execution_count": 158,
   "metadata": {},
   "outputs": [],
   "source": [
    "dataset_train = tf.data.Dataset.from_tensor_slices(({'input1': X_train1, 'input2': X_train2, 'input3': X_train3},\n",
    "                                                    y_train)).batch(100)\n"
   ]
  },
  {
   "cell_type": "code",
   "execution_count": 159,
   "metadata": {},
   "outputs": [],
   "source": [
    "validation = tf.data.Dataset.from_tensor_slices(({'input1': X_test1, 'input2': X_test2, 'input3': X_test3},\n",
    "                                                 y_test)).batch(100)"
   ]
  },
  {
   "cell_type": "code",
   "execution_count": 160,
   "metadata": {},
   "outputs": [
    {
     "name": "stdout",
     "output_type": "stream",
     "text": [
      "base model shape (144, 7)\n",
      "base model shape (48, 7)\n",
      "base model shape (24, 7)\n",
      "Model: \"model_127\"\n",
      "__________________________________________________________________________________________________\n",
      "Layer (type)                    Output Shape         Param #     Connected to                     \n",
      "==================================================================================================\n",
      "input1 (InputLayer)             [(None, 144, 7)]     0                                            \n",
      "__________________________________________________________________________________________________\n",
      "input2 (InputLayer)             [(None, 48, 7)]      0                                            \n",
      "__________________________________________________________________________________________________\n",
      "input3 (InputLayer)             [(None, 24, 7)]      0                                            \n",
      "__________________________________________________________________________________________________\n",
      "model_124 (Functional)          (None, 50)           1260        input1[0][0]                     \n",
      "__________________________________________________________________________________________________\n",
      "model_125 (Functional)          (None, 50)           980         input2[0][0]                     \n",
      "__________________________________________________________________________________________________\n",
      "model_126 (Functional)          (None, 50)           840         input3[0][0]                     \n",
      "__________________________________________________________________________________________________\n",
      "concatenate_32 (Concatenate)    (None, 150)          0           model_124[0][0]                  \n",
      "                                                                 model_125[0][0]                  \n",
      "                                                                 model_126[0][0]                  \n",
      "__________________________________________________________________________________________________\n",
      "dense_128 (Dense)               (None, 1)            151         concatenate_32[0][0]             \n",
      "==================================================================================================\n",
      "Total params: 3,231\n",
      "Trainable params: 3,231\n",
      "Non-trainable params: 0\n",
      "__________________________________________________________________________________________________\n",
      "SIZE OF TRAINING DATA 7\n",
      "Epoch 1/1000\n",
      "7/7 [==============================] - 3s 118ms/step - loss: 0.6920 - binary_accuracy: 0.5761 - precision_19: 0.3406 - recall_19: 0.5648 - auc_19: 0.3208 - val_loss: 0.6165 - val_binary_accuracy: 0.7258 - val_precision_19: 0.0000e+00 - val_recall_19: 0.0000e+00 - val_auc_19: 0.3444\n",
      "Epoch 2/1000\n",
      "7/7 [==============================] - 0s 21ms/step - loss: 0.6048 - binary_accuracy: 0.7112 - precision_19: 0.3667 - recall_19: 0.0570 - auc_19: 0.3289 - val_loss: 0.5920 - val_binary_accuracy: 0.7258 - val_precision_19: 0.0000e+00 - val_recall_19: 0.0000e+00 - val_auc_19: 0.3478\n",
      "Epoch 3/1000\n",
      "7/7 [==============================] - 0s 26ms/step - loss: 0.5940 - binary_accuracy: 0.7227 - precision_19: 0.5000 - recall_19: 0.0052 - auc_19: 0.3186 - val_loss: 0.5815 - val_binary_accuracy: 0.7258 - val_precision_19: 0.0000e+00 - val_recall_19: 0.0000e+00 - val_auc_19: 0.3473\n",
      "Epoch 4/1000\n",
      "7/7 [==============================] - 0s 29ms/step - loss: 0.5895 - binary_accuracy: 0.7227 - precision_19: 0.0000e+00 - recall_19: 0.0000e+00 - auc_19: 0.3332 - val_loss: 0.5758 - val_binary_accuracy: 0.7258 - val_precision_19: 0.0000e+00 - val_recall_19: 0.0000e+00 - val_auc_19: 0.3677\n",
      "Epoch 5/1000\n",
      "7/7 [==============================] - 0s 38ms/step - loss: 0.5757 - binary_accuracy: 0.7227 - precision_19: 0.0000e+00 - recall_19: 0.0000e+00 - auc_19: 0.3537 - val_loss: 0.5719 - val_binary_accuracy: 0.7258 - val_precision_19: 0.0000e+00 - val_recall_19: 0.0000e+00 - val_auc_19: 0.3587\n",
      "Epoch 6/1000\n",
      "7/7 [==============================] - 0s 33ms/step - loss: 0.5895 - binary_accuracy: 0.7213 - precision_19: 0.0000e+00 - recall_19: 0.0000e+00 - auc_19: 0.3072 - val_loss: 0.5685 - val_binary_accuracy: 0.7258 - val_precision_19: 0.0000e+00 - val_recall_19: 0.0000e+00 - val_auc_19: 0.3666\n",
      "Epoch 7/1000\n",
      "7/7 [==============================] - 0s 28ms/step - loss: 0.5763 - binary_accuracy: 0.7227 - precision_19: 0.0000e+00 - recall_19: 0.0000e+00 - auc_19: 0.3258 - val_loss: 0.5666 - val_binary_accuracy: 0.7258 - val_precision_19: 0.0000e+00 - val_recall_19: 0.0000e+00 - val_auc_19: 0.3702\n",
      "Epoch 8/1000\n",
      "7/7 [==============================] - 0s 35ms/step - loss: 0.5851 - binary_accuracy: 0.7227 - precision_19: 0.0000e+00 - recall_19: 0.0000e+00 - auc_19: 0.3067 - val_loss: 0.5640 - val_binary_accuracy: 0.7258 - val_precision_19: 0.0000e+00 - val_recall_19: 0.0000e+00 - val_auc_19: 0.3748\n",
      "Epoch 9/1000\n",
      "7/7 [==============================] - 0s 35ms/step - loss: 0.5766 - binary_accuracy: 0.7227 - precision_19: 0.0000e+00 - recall_19: 0.0000e+00 - auc_19: 0.3209 - val_loss: 0.5627 - val_binary_accuracy: 0.7258 - val_precision_19: 0.0000e+00 - val_recall_19: 0.0000e+00 - val_auc_19: 0.3931\n",
      "Epoch 10/1000\n",
      "7/7 [==============================] - 0s 39ms/step - loss: 0.5756 - binary_accuracy: 0.7227 - precision_19: 0.0000e+00 - recall_19: 0.0000e+00 - auc_19: 0.3399 - val_loss: 0.5605 - val_binary_accuracy: 0.7258 - val_precision_19: 0.0000e+00 - val_recall_19: 0.0000e+00 - val_auc_19: 0.3919\n",
      "Epoch 11/1000\n",
      "7/7 [==============================] - 0s 32ms/step - loss: 0.5746 - binary_accuracy: 0.7227 - precision_19: 0.0000e+00 - recall_19: 0.0000e+00 - auc_19: 0.3482 - val_loss: 0.5591 - val_binary_accuracy: 0.7258 - val_precision_19: 0.0000e+00 - val_recall_19: 0.0000e+00 - val_auc_19: 0.3942\n",
      "Epoch 12/1000\n",
      "7/7 [==============================] - 0s 29ms/step - loss: 0.5753 - binary_accuracy: 0.7227 - precision_19: 0.0000e+00 - recall_19: 0.0000e+00 - auc_19: 0.3170 - val_loss: 0.5575 - val_binary_accuracy: 0.7258 - val_precision_19: 0.0000e+00 - val_recall_19: 0.0000e+00 - val_auc_19: 0.3864\n",
      "Epoch 13/1000\n",
      "7/7 [==============================] - 0s 31ms/step - loss: 0.5760 - binary_accuracy: 0.7227 - precision_19: 0.0000e+00 - recall_19: 0.0000e+00 - auc_19: 0.3191 - val_loss: 0.5561 - val_binary_accuracy: 0.7258 - val_precision_19: 0.0000e+00 - val_recall_19: 0.0000e+00 - val_auc_19: 0.3886\n",
      "Epoch 14/1000\n",
      "7/7 [==============================] - 0s 34ms/step - loss: 0.5663 - binary_accuracy: 0.7227 - precision_19: 0.0000e+00 - recall_19: 0.0000e+00 - auc_19: 0.3437 - val_loss: 0.5551 - val_binary_accuracy: 0.7258 - val_precision_19: 0.0000e+00 - val_recall_19: 0.0000e+00 - val_auc_19: 0.3907\n",
      "Epoch 15/1000\n",
      "7/7 [==============================] - 0s 34ms/step - loss: 0.5756 - binary_accuracy: 0.7227 - precision_19: 0.0000e+00 - recall_19: 0.0000e+00 - auc_19: 0.3280 - val_loss: 0.5543 - val_binary_accuracy: 0.7258 - val_precision_19: 0.0000e+00 - val_recall_19: 0.0000e+00 - val_auc_19: 0.3943\n",
      "Epoch 16/1000\n",
      "7/7 [==============================] - 0s 39ms/step - loss: 0.5695 - binary_accuracy: 0.7227 - precision_19: 0.0000e+00 - recall_19: 0.0000e+00 - auc_19: 0.3301 - val_loss: 0.5529 - val_binary_accuracy: 0.7258 - val_precision_19: 0.0000e+00 - val_recall_19: 0.0000e+00 - val_auc_19: 0.3958\n",
      "Epoch 17/1000\n",
      "7/7 [==============================] - 0s 44ms/step - loss: 0.5674 - binary_accuracy: 0.7227 - precision_19: 0.0000e+00 - recall_19: 0.0000e+00 - auc_19: 0.3423 - val_loss: 0.5524 - val_binary_accuracy: 0.7258 - val_precision_19: 0.0000e+00 - val_recall_19: 0.0000e+00 - val_auc_19: 0.3989\n",
      "Epoch 18/1000\n",
      "7/7 [==============================] - 0s 42ms/step - loss: 0.5687 - binary_accuracy: 0.7227 - precision_19: 0.0000e+00 - recall_19: 0.0000e+00 - auc_19: 0.3480 - val_loss: 0.5514 - val_binary_accuracy: 0.7258 - val_precision_19: 0.0000e+00 - val_recall_19: 0.0000e+00 - val_auc_19: 0.4045\n",
      "Epoch 19/1000\n",
      "7/7 [==============================] - 0s 33ms/step - loss: 0.5613 - binary_accuracy: 0.7241 - precision_19: 1.0000 - recall_19: 0.0052 - auc_19: 0.3584 - val_loss: 0.5518 - val_binary_accuracy: 0.7258 - val_precision_19: 0.0000e+00 - val_recall_19: 0.0000e+00 - val_auc_19: 0.4077\n",
      "Epoch 20/1000\n"
     ]
    },
    {
     "name": "stdout",
     "output_type": "stream",
     "text": [
      "7/7 [==============================] - 0s 32ms/step - loss: 0.5633 - binary_accuracy: 0.7227 - precision_19: 0.0000e+00 - recall_19: 0.0000e+00 - auc_19: 0.3460 - val_loss: 0.5513 - val_binary_accuracy: 0.7258 - val_precision_19: 0.0000e+00 - val_recall_19: 0.0000e+00 - val_auc_19: 0.4104\n",
      "Epoch 21/1000\n",
      "7/7 [==============================] - 0s 21ms/step - loss: 0.5665 - binary_accuracy: 0.7227 - precision_19: 0.0000e+00 - recall_19: 0.0000e+00 - auc_19: 0.3650 - val_loss: 0.5503 - val_binary_accuracy: 0.7258 - val_precision_19: 0.0000e+00 - val_recall_19: 0.0000e+00 - val_auc_19: 0.4079\n",
      "Epoch 22/1000\n",
      "7/7 [==============================] - 0s 18ms/step - loss: 0.5665 - binary_accuracy: 0.7227 - precision_19: 0.0000e+00 - recall_19: 0.0000e+00 - auc_19: 0.3430 - val_loss: 0.5498 - val_binary_accuracy: 0.7258 - val_precision_19: 0.0000e+00 - val_recall_19: 0.0000e+00 - val_auc_19: 0.4107\n",
      "Epoch 23/1000\n",
      "7/7 [==============================] - 0s 30ms/step - loss: 0.5609 - binary_accuracy: 0.7227 - precision_19: 0.0000e+00 - recall_19: 0.0000e+00 - auc_19: 0.3582 - val_loss: 0.5499 - val_binary_accuracy: 0.7258 - val_precision_19: 0.0000e+00 - val_recall_19: 0.0000e+00 - val_auc_19: 0.4136\n",
      "Epoch 24/1000\n",
      "7/7 [==============================] - 0s 35ms/step - loss: 0.5628 - binary_accuracy: 0.7227 - precision_19: 0.0000e+00 - recall_19: 0.0000e+00 - auc_19: 0.3608 - val_loss: 0.5485 - val_binary_accuracy: 0.7258 - val_precision_19: 0.0000e+00 - val_recall_19: 0.0000e+00 - val_auc_19: 0.4114\n",
      "Epoch 25/1000\n",
      "7/7 [==============================] - 0s 36ms/step - loss: 0.5663 - binary_accuracy: 0.7227 - precision_19: 0.0000e+00 - recall_19: 0.0000e+00 - auc_19: 0.3633 - val_loss: 0.5480 - val_binary_accuracy: 0.7258 - val_precision_19: 0.0000e+00 - val_recall_19: 0.0000e+00 - val_auc_19: 0.4187\n",
      "Epoch 26/1000\n",
      "7/7 [==============================] - 0s 27ms/step - loss: 0.5558 - binary_accuracy: 0.7227 - precision_19: 0.0000e+00 - recall_19: 0.0000e+00 - auc_19: 0.3822 - val_loss: 0.5484 - val_binary_accuracy: 0.7258 - val_precision_19: 0.0000e+00 - val_recall_19: 0.0000e+00 - val_auc_19: 0.4149\n",
      "Epoch 27/1000\n",
      "7/7 [==============================] - 0s 21ms/step - loss: 0.5547 - binary_accuracy: 0.7241 - precision_19: 1.0000 - recall_19: 0.0052 - auc_19: 0.3833 - val_loss: 0.5474 - val_binary_accuracy: 0.7258 - val_precision_19: 0.0000e+00 - val_recall_19: 0.0000e+00 - val_auc_19: 0.4140\n",
      "Epoch 28/1000\n",
      "7/7 [==============================] - 0s 31ms/step - loss: 0.5586 - binary_accuracy: 0.7227 - precision_19: 0.0000e+00 - recall_19: 0.0000e+00 - auc_19: 0.3549 - val_loss: 0.5471 - val_binary_accuracy: 0.7258 - val_precision_19: 0.0000e+00 - val_recall_19: 0.0000e+00 - val_auc_19: 0.4158\n",
      "Epoch 29/1000\n",
      "7/7 [==============================] - 0s 26ms/step - loss: 0.5597 - binary_accuracy: 0.7227 - precision_19: 0.0000e+00 - recall_19: 0.0000e+00 - auc_19: 0.3512 - val_loss: 0.5465 - val_binary_accuracy: 0.7258 - val_precision_19: 0.0000e+00 - val_recall_19: 0.0000e+00 - val_auc_19: 0.4179\n",
      "Epoch 30/1000\n",
      "7/7 [==============================] - 0s 28ms/step - loss: 0.5544 - binary_accuracy: 0.7227 - precision_19: 0.0000e+00 - recall_19: 0.0000e+00 - auc_19: 0.3848 - val_loss: 0.5461 - val_binary_accuracy: 0.7258 - val_precision_19: 0.0000e+00 - val_recall_19: 0.0000e+00 - val_auc_19: 0.4166\n",
      "Epoch 31/1000\n",
      "7/7 [==============================] - 0s 31ms/step - loss: 0.5540 - binary_accuracy: 0.7256 - precision_19: 0.7500 - recall_19: 0.0155 - auc_19: 0.3865 - val_loss: 0.5465 - val_binary_accuracy: 0.7258 - val_precision_19: 0.0000e+00 - val_recall_19: 0.0000e+00 - val_auc_19: 0.4139\n",
      "Epoch 32/1000\n",
      "7/7 [==============================] - 0s 31ms/step - loss: 0.5578 - binary_accuracy: 0.7241 - precision_19: 1.0000 - recall_19: 0.0052 - auc_19: 0.3797 - val_loss: 0.5454 - val_binary_accuracy: 0.7258 - val_precision_19: 0.0000e+00 - val_recall_19: 0.0000e+00 - val_auc_19: 0.4102\n",
      "Epoch 33/1000\n",
      "7/7 [==============================] - 0s 32ms/step - loss: 0.5517 - binary_accuracy: 0.7241 - precision_19: 1.0000 - recall_19: 0.0052 - auc_19: 0.4014 - val_loss: 0.5461 - val_binary_accuracy: 0.7258 - val_precision_19: 0.0000e+00 - val_recall_19: 0.0000e+00 - val_auc_19: 0.4161\n",
      "Epoch 34/1000\n",
      "7/7 [==============================] - 0s 30ms/step - loss: 0.5519 - binary_accuracy: 0.7241 - precision_19: 1.0000 - recall_19: 0.0052 - auc_19: 0.3866 - val_loss: 0.5460 - val_binary_accuracy: 0.7258 - val_precision_19: 0.0000e+00 - val_recall_19: 0.0000e+00 - val_auc_19: 0.4177\n",
      "Epoch 35/1000\n",
      "7/7 [==============================] - 0s 24ms/step - loss: 0.5496 - binary_accuracy: 0.7256 - precision_19: 1.0000 - recall_19: 0.0104 - auc_19: 0.3998 - val_loss: 0.5459 - val_binary_accuracy: 0.7258 - val_precision_19: 0.0000e+00 - val_recall_19: 0.0000e+00 - val_auc_19: 0.4164\n",
      "Epoch 36/1000\n",
      "7/7 [==============================] - 0s 28ms/step - loss: 0.5502 - binary_accuracy: 0.7227 - precision_19: 0.0000e+00 - recall_19: 0.0000e+00 - auc_19: 0.4065 - val_loss: 0.5460 - val_binary_accuracy: 0.7258 - val_precision_19: 0.0000e+00 - val_recall_19: 0.0000e+00 - val_auc_19: 0.4114\n",
      "Epoch 37/1000\n",
      "7/7 [==============================] - 0s 47ms/step - loss: 0.5541 - binary_accuracy: 0.7227 - precision_19: 0.0000e+00 - recall_19: 0.0000e+00 - auc_19: 0.3770 - val_loss: 0.5452 - val_binary_accuracy: 0.7258 - val_precision_19: 0.0000e+00 - val_recall_19: 0.0000e+00 - val_auc_19: 0.4080\n",
      "Epoch 38/1000\n",
      "7/7 [==============================] - 0s 36ms/step - loss: 0.5494 - binary_accuracy: 0.7241 - precision_19: 1.0000 - recall_19: 0.0052 - auc_19: 0.4169 - val_loss: 0.5453 - val_binary_accuracy: 0.7258 - val_precision_19: 0.0000e+00 - val_recall_19: 0.0000e+00 - val_auc_19: 0.4074\n",
      "Epoch 39/1000\n",
      "7/7 [==============================] - 0s 25ms/step - loss: 0.5480 - binary_accuracy: 0.7227 - precision_19: 0.0000e+00 - recall_19: 0.0000e+00 - auc_19: 0.3856 - val_loss: 0.5447 - val_binary_accuracy: 0.7258 - val_precision_19: 0.0000e+00 - val_recall_19: 0.0000e+00 - val_auc_19: 0.4137\n",
      "Epoch 40/1000\n",
      "7/7 [==============================] - 0s 28ms/step - loss: 0.5446 - binary_accuracy: 0.7256 - precision_19: 1.0000 - recall_19: 0.0104 - auc_19: 0.4142 - val_loss: 0.5441 - val_binary_accuracy: 0.7258 - val_precision_19: 0.0000e+00 - val_recall_19: 0.0000e+00 - val_auc_19: 0.4207\n",
      "Epoch 41/1000\n",
      "7/7 [==============================] - 0s 33ms/step - loss: 0.5488 - binary_accuracy: 0.7256 - precision_19: 1.0000 - recall_19: 0.0104 - auc_19: 0.4042 - val_loss: 0.5445 - val_binary_accuracy: 0.7258 - val_precision_19: 0.0000e+00 - val_recall_19: 0.0000e+00 - val_auc_19: 0.4221\n",
      "Epoch 42/1000\n",
      "7/7 [==============================] - 0s 30ms/step - loss: 0.5455 - binary_accuracy: 0.7241 - precision_19: 1.0000 - recall_19: 0.0052 - auc_19: 0.4171 - val_loss: 0.5446 - val_binary_accuracy: 0.7258 - val_precision_19: 0.0000e+00 - val_recall_19: 0.0000e+00 - val_auc_19: 0.4202\n",
      "Epoch 43/1000\n",
      "7/7 [==============================] - 0s 33ms/step - loss: 0.5490 - binary_accuracy: 0.7256 - precision_19: 0.7500 - recall_19: 0.0155 - auc_19: 0.3803 - val_loss: 0.5442 - val_binary_accuracy: 0.7258 - val_precision_19: 0.0000e+00 - val_recall_19: 0.0000e+00 - val_auc_19: 0.4179\n",
      "Epoch 44/1000\n",
      "7/7 [==============================] - 0s 27ms/step - loss: 0.5435 - binary_accuracy: 0.7241 - precision_19: 0.6000 - recall_19: 0.0155 - auc_19: 0.4150 - val_loss: 0.5440 - val_binary_accuracy: 0.7258 - val_precision_19: 0.0000e+00 - val_recall_19: 0.0000e+00 - val_auc_19: 0.4160\n",
      "Epoch 45/1000\n",
      "7/7 [==============================] - 0s 30ms/step - loss: 0.5438 - binary_accuracy: 0.7241 - precision_19: 1.0000 - recall_19: 0.0052 - auc_19: 0.4240 - val_loss: 0.5436 - val_binary_accuracy: 0.7258 - val_precision_19: 0.0000e+00 - val_recall_19: 0.0000e+00 - val_auc_19: 0.4158\n",
      "Epoch 46/1000\n",
      "7/7 [==============================] - 0s 28ms/step - loss: 0.5421 - binary_accuracy: 0.7241 - precision_19: 0.6667 - recall_19: 0.0104 - auc_19: 0.4432 - val_loss: 0.5427 - val_binary_accuracy: 0.7258 - val_precision_19: 0.0000e+00 - val_recall_19: 0.0000e+00 - val_auc_19: 0.4101\n",
      "Epoch 47/1000\n"
     ]
    },
    {
     "name": "stdout",
     "output_type": "stream",
     "text": [
      "7/7 [==============================] - 0s 23ms/step - loss: 0.5405 - binary_accuracy: 0.7227 - precision_19: 0.5000 - recall_19: 0.0104 - auc_19: 0.4130 - val_loss: 0.5433 - val_binary_accuracy: 0.7258 - val_precision_19: 0.0000e+00 - val_recall_19: 0.0000e+00 - val_auc_19: 0.4138\n",
      "Epoch 48/1000\n",
      "7/7 [==============================] - 0s 30ms/step - loss: 0.5466 - binary_accuracy: 0.7256 - precision_19: 0.7500 - recall_19: 0.0155 - auc_19: 0.4103 - val_loss: 0.5436 - val_binary_accuracy: 0.7258 - val_precision_19: 0.0000e+00 - val_recall_19: 0.0000e+00 - val_auc_19: 0.4149\n",
      "Epoch 49/1000\n",
      "7/7 [==============================] - 0s 24ms/step - loss: 0.5437 - binary_accuracy: 0.7284 - precision_19: 1.0000 - recall_19: 0.0207 - auc_19: 0.4275 - val_loss: 0.5433 - val_binary_accuracy: 0.7258 - val_precision_19: 0.0000e+00 - val_recall_19: 0.0000e+00 - val_auc_19: 0.4126\n",
      "Epoch 50/1000\n",
      "7/7 [==============================] - 0s 27ms/step - loss: 0.5413 - binary_accuracy: 0.7256 - precision_19: 0.7500 - recall_19: 0.0155 - auc_19: 0.4286 - val_loss: 0.5432 - val_binary_accuracy: 0.7258 - val_precision_19: 0.0000e+00 - val_recall_19: 0.0000e+00 - val_auc_19: 0.4074\n",
      "Epoch 51/1000\n",
      "7/7 [==============================] - 0s 27ms/step - loss: 0.5425 - binary_accuracy: 0.7270 - precision_19: 0.7143 - recall_19: 0.0259 - auc_19: 0.4102 - val_loss: 0.5428 - val_binary_accuracy: 0.7258 - val_precision_19: 0.0000e+00 - val_recall_19: 0.0000e+00 - val_auc_19: 0.4067\n",
      "Epoch 52/1000\n",
      "7/7 [==============================] - 0s 27ms/step - loss: 0.5427 - binary_accuracy: 0.7270 - precision_19: 0.8000 - recall_19: 0.0207 - auc_19: 0.4435 - val_loss: 0.5429 - val_binary_accuracy: 0.7258 - val_precision_19: 0.0000e+00 - val_recall_19: 0.0000e+00 - val_auc_19: 0.4113\n",
      "Epoch 53/1000\n",
      "7/7 [==============================] - 0s 34ms/step - loss: 0.5428 - binary_accuracy: 0.7213 - precision_19: 0.4286 - recall_19: 0.0155 - auc_19: 0.4033 - val_loss: 0.5424 - val_binary_accuracy: 0.7258 - val_precision_19: 0.0000e+00 - val_recall_19: 0.0000e+00 - val_auc_19: 0.4083\n",
      "Epoch 54/1000\n",
      "7/7 [==============================] - 0s 31ms/step - loss: 0.5465 - binary_accuracy: 0.7256 - precision_19: 1.0000 - recall_19: 0.0104 - auc_19: 0.3999 - val_loss: 0.5425 - val_binary_accuracy: 0.7258 - val_precision_19: 0.0000e+00 - val_recall_19: 0.0000e+00 - val_auc_19: 0.4094\n",
      "Epoch 55/1000\n",
      "7/7 [==============================] - 0s 30ms/step - loss: 0.5370 - binary_accuracy: 0.7284 - precision_19: 0.7500 - recall_19: 0.0311 - auc_19: 0.4427 - val_loss: 0.5430 - val_binary_accuracy: 0.7258 - val_precision_19: 0.0000e+00 - val_recall_19: 0.0000e+00 - val_auc_19: 0.4142\n",
      "Epoch 56/1000\n",
      "7/7 [==============================] - 0s 27ms/step - loss: 0.5403 - binary_accuracy: 0.7284 - precision_19: 1.0000 - recall_19: 0.0207 - auc_19: 0.4314 - val_loss: 0.5430 - val_binary_accuracy: 0.7258 - val_precision_19: 0.0000e+00 - val_recall_19: 0.0000e+00 - val_auc_19: 0.4119\n",
      "Epoch 57/1000\n",
      "7/7 [==============================] - 0s 31ms/step - loss: 0.5378 - binary_accuracy: 0.7270 - precision_19: 0.8000 - recall_19: 0.0207 - auc_19: 0.4421 - val_loss: 0.5422 - val_binary_accuracy: 0.7258 - val_precision_19: 0.0000e+00 - val_recall_19: 0.0000e+00 - val_auc_19: 0.4097\n",
      "Epoch 58/1000\n",
      "7/7 [==============================] - 0s 30ms/step - loss: 0.5376 - binary_accuracy: 0.7284 - precision_19: 1.0000 - recall_19: 0.0207 - auc_19: 0.4490 - val_loss: 0.5435 - val_binary_accuracy: 0.7258 - val_precision_19: 0.0000e+00 - val_recall_19: 0.0000e+00 - val_auc_19: 0.4128\n",
      "Epoch 59/1000\n",
      "7/7 [==============================] - 0s 24ms/step - loss: 0.5334 - binary_accuracy: 0.7284 - precision_19: 0.8333 - recall_19: 0.0259 - auc_19: 0.4438 - val_loss: 0.5426 - val_binary_accuracy: 0.7258 - val_precision_19: 0.0000e+00 - val_recall_19: 0.0000e+00 - val_auc_19: 0.4095\n",
      "Epoch 60/1000\n",
      "7/7 [==============================] - 0s 22ms/step - loss: 0.5321 - binary_accuracy: 0.7270 - precision_19: 0.7143 - recall_19: 0.0259 - auc_19: 0.4655 - val_loss: 0.5421 - val_binary_accuracy: 0.7258 - val_precision_19: 0.0000e+00 - val_recall_19: 0.0000e+00 - val_auc_19: 0.4123\n",
      "Epoch 61/1000\n",
      "7/7 [==============================] - 0s 41ms/step - loss: 0.5362 - binary_accuracy: 0.7328 - precision_19: 0.8889 - recall_19: 0.0415 - auc_19: 0.4591 - val_loss: 0.5422 - val_binary_accuracy: 0.7258 - val_precision_19: 0.0000e+00 - val_recall_19: 0.0000e+00 - val_auc_19: 0.4113\n",
      "Epoch 62/1000\n",
      "7/7 [==============================] - 0s 35ms/step - loss: 0.5347 - binary_accuracy: 0.7213 - precision_19: 0.4545 - recall_19: 0.0259 - auc_19: 0.4347 - val_loss: 0.5419 - val_binary_accuracy: 0.7258 - val_precision_19: 0.0000e+00 - val_recall_19: 0.0000e+00 - val_auc_19: 0.4099\n",
      "Epoch 63/1000\n",
      "7/7 [==============================] - 0s 20ms/step - loss: 0.5377 - binary_accuracy: 0.7284 - precision_19: 0.6667 - recall_19: 0.0415 - auc_19: 0.4165 - val_loss: 0.5422 - val_binary_accuracy: 0.7258 - val_precision_19: 0.0000e+00 - val_recall_19: 0.0000e+00 - val_auc_19: 0.4110\n",
      "Epoch 64/1000\n",
      "7/7 [==============================] - 0s 20ms/step - loss: 0.5342 - binary_accuracy: 0.7284 - precision_19: 0.7500 - recall_19: 0.0311 - auc_19: 0.4397 - val_loss: 0.5418 - val_binary_accuracy: 0.7258 - val_precision_19: 0.0000e+00 - val_recall_19: 0.0000e+00 - val_auc_19: 0.4084\n",
      "Epoch 65/1000\n",
      "7/7 [==============================] - 0s 31ms/step - loss: 0.5312 - binary_accuracy: 0.7284 - precision_19: 0.7500 - recall_19: 0.0311 - auc_19: 0.4702 - val_loss: 0.5416 - val_binary_accuracy: 0.7258 - val_precision_19: 0.0000e+00 - val_recall_19: 0.0000e+00 - val_auc_19: 0.4078\n",
      "Epoch 66/1000\n",
      "7/7 [==============================] - 0s 32ms/step - loss: 0.5336 - binary_accuracy: 0.7270 - precision_19: 0.6667 - recall_19: 0.0311 - auc_19: 0.4428 - val_loss: 0.5426 - val_binary_accuracy: 0.7258 - val_precision_19: 0.0000e+00 - val_recall_19: 0.0000e+00 - val_auc_19: 0.4050\n",
      "Epoch 67/1000\n",
      "7/7 [==============================] - 0s 30ms/step - loss: 0.5267 - binary_accuracy: 0.7342 - precision_19: 0.9000 - recall_19: 0.0466 - auc_19: 0.4802 - val_loss: 0.5420 - val_binary_accuracy: 0.7258 - val_precision_19: 0.0000e+00 - val_recall_19: 0.0000e+00 - val_auc_19: 0.4071\n",
      "Epoch 68/1000\n",
      "7/7 [==============================] - 0s 28ms/step - loss: 0.5295 - binary_accuracy: 0.7256 - precision_19: 0.6000 - recall_19: 0.0311 - auc_19: 0.4492 - val_loss: 0.5421 - val_binary_accuracy: 0.7258 - val_precision_19: 0.0000e+00 - val_recall_19: 0.0000e+00 - val_auc_19: 0.4055\n",
      "Epoch 69/1000\n",
      "7/7 [==============================] - 0s 22ms/step - loss: 0.5298 - binary_accuracy: 0.7256 - precision_19: 0.5714 - recall_19: 0.0415 - auc_19: 0.4556 - val_loss: 0.5425 - val_binary_accuracy: 0.7258 - val_precision_19: 0.0000e+00 - val_recall_19: 0.0000e+00 - val_auc_19: 0.4096\n",
      "Epoch 70/1000\n",
      "7/7 [==============================] - 0s 34ms/step - loss: 0.5320 - binary_accuracy: 0.7299 - precision_19: 0.7273 - recall_19: 0.0415 - auc_19: 0.4433 - val_loss: 0.5423 - val_binary_accuracy: 0.7258 - val_precision_19: 0.0000e+00 - val_recall_19: 0.0000e+00 - val_auc_19: 0.4035\n",
      "Epoch 71/1000\n",
      "7/7 [==============================] - 0s 23ms/step - loss: 0.5230 - binary_accuracy: 0.7414 - precision_19: 0.8824 - recall_19: 0.0777 - auc_19: 0.4990 - val_loss: 0.5424 - val_binary_accuracy: 0.7258 - val_precision_19: 0.0000e+00 - val_recall_19: 0.0000e+00 - val_auc_19: 0.4048\n",
      "Epoch 72/1000\n",
      "7/7 [==============================] - 0s 20ms/step - loss: 0.5284 - binary_accuracy: 0.7342 - precision_19: 0.8333 - recall_19: 0.0518 - auc_19: 0.4704 - val_loss: 0.5426 - val_binary_accuracy: 0.7258 - val_precision_19: 0.0000e+00 - val_recall_19: 0.0000e+00 - val_auc_19: 0.4086\n",
      "Epoch 73/1000\n",
      "7/7 [==============================] - 0s 26ms/step - loss: 0.5269 - binary_accuracy: 0.7270 - precision_19: 0.6000 - recall_19: 0.0466 - auc_19: 0.4444 - val_loss: 0.5430 - val_binary_accuracy: 0.7258 - val_precision_19: 0.0000e+00 - val_recall_19: 0.0000e+00 - val_auc_19: 0.4098\n",
      "Epoch 74/1000\n",
      "7/7 [==============================] - 0s 34ms/step - loss: 0.5247 - binary_accuracy: 0.7270 - precision_19: 0.6667 - recall_19: 0.0311 - auc_19: 0.4694 - val_loss: 0.5422 - val_binary_accuracy: 0.7258 - val_precision_19: 0.0000e+00 - val_recall_19: 0.0000e+00 - val_auc_19: 0.4142\n"
     ]
    },
    {
     "name": "stdout",
     "output_type": "stream",
     "text": [
      "Epoch 75/1000\n",
      "7/7 [==============================] - 0s 32ms/step - loss: 0.5224 - binary_accuracy: 0.7241 - precision_19: 0.5556 - recall_19: 0.0259 - auc_19: 0.4836 - val_loss: 0.5422 - val_binary_accuracy: 0.7258 - val_precision_19: 0.0000e+00 - val_recall_19: 0.0000e+00 - val_auc_19: 0.4133\n"
     ]
    }
   ],
   "source": [
    "model_hist, model = run_model(dataset_train, y_train, validation,  y_test)"
   ]
  },
  {
   "cell_type": "code",
   "execution_count": null,
   "metadata": {},
   "outputs": [],
   "source": [
    "prediction = model.predict(all_x_test)"
   ]
  },
  {
   "cell_type": "code",
   "execution_count": null,
   "metadata": {},
   "outputs": [],
   "source": [
    "prediction[prediction <=0.5] = 0\n",
    "prediction[prediction >0.5] = 1"
   ]
  },
  {
   "cell_type": "code",
   "execution_count": null,
   "metadata": {},
   "outputs": [],
   "source": [
    "[pred[0] for pred in prediction.tolist()]"
   ]
  },
  {
   "cell_type": "code",
   "execution_count": 161,
   "metadata": {},
   "outputs": [],
   "source": [
    "def plot_training_curves(history, title=None):\n",
    "    ''' Plot the training curves for loss and accuracy given a model history\n",
    "    '''\n",
    "    # find the minimum loss epoch\n",
    "    minimum = np.min(history.history['val_loss'])\n",
    "    min_loc = np.where(minimum == history.history['val_loss'])[0]\n",
    "    # get the vline y-min and y-max\n",
    "    loss_min, loss_max = (min(history.history['val_loss'] + history.history['loss']),\n",
    "                          max(history.history['val_loss'] + history.history['loss']))\n",
    "    acc_min, acc_max = (min(history.history['val_binary_accuracy'] + history.history['binary_accuracy']),\n",
    "                        max(history.history['val_binary_accuracy'] + history.history['binary_accuracy']))\n",
    "    # create figure\n",
    "    fig, ax = plt.subplots(ncols=2, figsize = (15,7))\n",
    "    fig.suptitle(title)\n",
    "    index = np.arange(1, len(history.history['binary_accuracy']) + 1)\n",
    "    # plot the loss and validation loss\n",
    "    ax[0].plot(index, history.history['loss'], label = 'loss')\n",
    "    ax[0].plot(index, history.history['val_loss'], label = 'val_loss')\n",
    "    ax[0].vlines(min_loc + 1, loss_min, loss_max, label = 'min_loss_location')\n",
    "    ax[0].set_title('Loss')\n",
    "    ax[0].set_ylabel('Loss')\n",
    "    ax[0].set_xlabel('Epochs')\n",
    "    ax[0].legend()\n",
    "    # plot the accuracy and validation accuracy\n",
    "    ax[1].plot(index, history.history['binary_accuracy'], label = 'accuracy')\n",
    "    ax[1].plot(index, history.history['val_binary_accuracy'], label = 'val_accuracy')\n",
    "    ax[1].vlines(min_loc + 1, acc_min, acc_max, label = 'min_loss_location')\n",
    "    ax[1].set_title('Accuracy')\n",
    "    ax[1].set_ylabel('Accuracy')\n",
    "    ax[1].set_xlabel('Epochs')\n",
    "    ax[1].legend()\n",
    "    plt.show()"
   ]
  },
  {
   "cell_type": "code",
   "execution_count": 176,
   "metadata": {},
   "outputs": [],
   "source": [
    "def plot_training_curves_auc(history, title=None):\n",
    "    ''' Plot the training curves for loss and accuracy given a model history\n",
    "    '''\n",
    "    # find the minimum loss epoch\n",
    "    minimum = np.min(history.history['val_loss'])\n",
    "    min_loc = np.where(minimum == history.history['val_loss'])[0]\n",
    "    # get the vline y-min and y-max\n",
    "    loss_min, loss_max = (min(history.history['val_loss'] + history.history['loss']),\n",
    "                          max(history.history['val_loss'] + history.history['loss']))\n",
    "    acc_min, acc_max = (min(history.history['val_auc_19'] + history.history['auc_19']),\n",
    "                        max(history.history['val_auc_19'] + history.history['auc_19']))\n",
    "    # create figure\n",
    "    fig, ax = plt.subplots(ncols=2, figsize = (15,7))\n",
    "    fig.suptitle(title)\n",
    "    index = np.arange(1, len(history.history['auc_19']) + 1)\n",
    "    # plot the loss and validation loss\n",
    "    ax[0].plot(index, history.history['loss'], label = 'loss')\n",
    "    ax[0].plot(index, history.history['val_loss'], label = 'val_loss')\n",
    "    ax[0].vlines(min_loc + 1, loss_min, loss_max, label = 'min_loss_location')\n",
    "    ax[0].set_title('Loss')\n",
    "    ax[0].set_ylabel('Loss')\n",
    "    ax[0].set_xlabel('Epochs')\n",
    "    ax[0].legend()\n",
    "    # plot the accuracy and validation accuracy\n",
    "    ax[1].plot(index, history.history['auc_19'], label = 'auc')\n",
    "    ax[1].plot(index, history.history['val_auc_19'], label = 'val_auc')\n",
    "    ax[1].vlines(min_loc + 1, acc_min, acc_max, label = 'min_loss_location')\n",
    "    ax[1].set_title('AUC')\n",
    "    ax[1].set_ylabel('auc')\n",
    "    ax[1].set_xlabel('Epochs')\n",
    "    ax[1].legend()\n",
    "    plt.show()"
   ]
  },
  {
   "cell_type": "code",
   "execution_count": 163,
   "metadata": {},
   "outputs": [
    {
     "data": {
      "image/png": "[encoded data removed]",
      "text/plain": [
       "<Figure size 1080x504 with 2 Axes>"
      ]
     },
     "metadata": {
      "needs_background": "light"
     },
     "output_type": "display_data"
    }
   ],
   "source": [
    "plot_training_curves(history=model_hist)"
   ]
  },
  {
   "cell_type": "code",
   "execution_count": 177,
   "metadata": {},
   "outputs": [
    {
     "data": {
      "image/png": "[encoded data removed]",
      "text/plain": [
       "<Figure size 1080x504 with 2 Axes>"
      ]
     },
     "metadata": {
      "needs_background": "light"
     },
     "output_type": "display_data"
    }
   ],
   "source": [
    "plot_training_curves_auc(history=model_hist)"
   ]
  }
 ],
 "metadata": {
  "kernelspec": {
   "display_name": "Python 3",
   "language": "python",
   "name": "python3"
  },
  "language_info": {
   "codemirror_mode": {
    "name": "ipython",
    "version": 3
   },
   "file_extension": ".py",
   "mimetype": "text/x-python",
   "name": "python",
   "nbconvert_exporter": "python",
   "pygments_lexer": "ipython3",
   "version": "3.8.5"
  }
 },
 "nbformat": 4,
 "nbformat_minor": 4
}
