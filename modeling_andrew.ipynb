{
 "cells": [
  {
   "cell_type": "code",
   "execution_count": 12,
   "metadata": {},
   "outputs": [],
   "source": [
    "import pandas as pd\n",
    "import numpy as np\n",
    "\n",
    "#import torch\n",
    "import torch\n",
    "import torch.autograd as autograd\n",
    "import torch.nn as nn\n",
    "import torch.nn.functional as F\n",
    "import torch.optim as optim\n",
    "from torch.utils.data import Dataset, DataLoader\n",
    "from torchvision import datasets\n",
    "from torchvision.transforms import ToTensor\n",
    "\n",
    "#import pytorch_lightning as pl\n",
    "import seaborn as sns\n",
    "from pylab import rcParams\n",
    "\n",
    "import matplotlib.pyplot as plt\n",
    "from matplotlib import rc\n",
    "from matplotlib.ticker import MaxNLocator\n",
    "\n",
    "from sklearn.model_selection import train_test_split\n",
    "from sklearn.preprocessing import LabelEncoder\n",
    "\n",
    "from multiprocessing import cpu_count\n",
    "#from pytorch_lightning.callbacks import ModelCheckpoint, EarlyStopping\n",
    "#from pytorch_lightning.loggers import TensorBoardLogger\n",
    "from torchmetrics.functional import accuracy\n",
    "from sklearn.metrics import classification_report, confusion_matrix\n",
    "from sklearn.preprocessing import StandardScaler\n",
    "\n",
    "from keras.layers import Conv1D, Dense, Dropout, Input, Concatenate, GlobalMaxPooling1D\n",
    "from keras.models import Model\n",
    "from tensorflow import keras\n",
    "import tensorflow as tf\n",
    "# from keras.optimizers import RMSprop, adam"
   ]
  },
  {
   "cell_type": "markdown",
   "metadata": {},
   "source": [
    "## Importing Data"
   ]
  },
  {
   "cell_type": "code",
   "execution_count": 313,
   "metadata": {},
   "outputs": [],
   "source": [
    "#day1_dataset_1min = pd.read_csv('Data Slices/day1_dataset_1min_10Aug2022.csv')\n",
    "day1_dataset_10min = pd.read_csv('Data Slices/day1_dataset_10min_10Aug2022.csv')\n",
    "day1_dataset_30min = pd.read_csv('Data Slices/day1_dataset_30min_10Aug2022.csv')\n",
    "day1_dataset_60min = pd.read_csv('Data Slices/day1_dataset_60min_10Aug2022.csv')\n",
    "train_90_10_split = pd.read_csv('C:\\\\Users\\\\allep\\\\SMU_MSDS_CAPSTONE_2022\\\\train_90_10_split.csv')"
   ]
  },
  {
   "cell_type": "code",
   "execution_count": 14,
   "metadata": {},
   "outputs": [],
   "source": [
    "def get_X_and_y(df, x_columns, y_columns):\n",
    "    X = df[x_columns]\n",
    "    y = df[y_columns]\n",
    "    return X, y"
   ]
  },
  {
   "cell_type": "code",
   "execution_count": 16,
   "metadata": {},
   "outputs": [],
   "source": [
    "def get_daily_sequences(X, y, feature_columns, sequence_dict = {}):\n",
    "    for collection, group in X.groupby(\"collection\"):\n",
    "        features = group[group.columns.intersection(feature_columns)]\n",
    "        blacklist = y[y.collection == collection].iloc[0].blacklisted\n",
    "        if sequence_dict.get(collection):\n",
    "            sequence_dict[collection][0].append(features)\n",
    "        else:\n",
    "            sequence_dict[collection] = ([features], blacklist)\n",
    "    return sequence_dict"
   ]
  },
  {
   "cell_type": "code",
   "execution_count": 17,
   "metadata": {},
   "outputs": [],
   "source": [
    "def scale_dataset(sequences, columns = ['Price_USD', 'Price_Crypto', 'volume', 'densities', 'vertex_count', \n",
    "                              'edge_count','vertext_edge_ratio'], fitted_scaler = None):\n",
    "    collection_blacklist_dict = {sequence[0]:sequence[2] for sequence in sequences}\n",
    "    concat_df = pd.concat([sequence[1] for sequence in sequences])\n",
    "    if fitted_scaler is None:\n",
    "        fitted_scaler = StandardScaler()\n",
    "        fitted_scaler.fit(concat_df[columns])\n",
    "    concat_df[columns] = fitted_scaler.transform(concat_df[columns])\n",
    "    return  [(collection, group[columns], collection_blacklist_dict[collection]) \n",
    "             for collection, group in concat_df.groupby(\"collection\")] , fitted_scaler"
   ]
  },
  {
   "cell_type": "code",
   "execution_count": 18,
   "metadata": {},
   "outputs": [],
   "source": [
    "def get_all_sequences(all_df):\n",
    "    sequence_dict = {}\n",
    "    for df in all_df: \n",
    "        df = df.drop(['Unnamed: 0'], axis=1)\n",
    "        x_columns =  ['Datetime_updated_seconds','Price_USD','Price_Crypto','volume','densities',\n",
    "                   'vertex_count','edge_count','collection']\n",
    "        y_columns = ['blacklisted','collection']\n",
    "        feature_columns=['Price_USD','Price_Crypto','volume',\n",
    "                         'densities', 'vertex_count','edge_count', 'collection', 'vertext_edge_ratio']\n",
    "        X, y= get_X_and_y(df, x_columns, y_columns)\n",
    "        X['vertext_edge_ratio'] = X['vertex_count']/X['edge_count']\n",
    "        sequence_dict = get_daily_sequences(X, y, feature_columns, sequence_dict)\n",
    "    return sequence_dict"
   ]
  },
  {
   "cell_type": "code",
   "execution_count": 376,
   "metadata": {},
   "outputs": [],
   "source": [
    "def retrieve_all_train_test_sequences(all_df, split_list):\n",
    "    train_sequences = []\n",
    "    test_sequences = []\n",
    "    all_sequence_dict = get_all_sequences(all_df)\n",
    "    \n",
    "    for i in range(0,len(test.keys())):\n",
    "        if list(all_sequence_dict.keys())[i] in list(split_list):\n",
    "            train_sequences.append(list(all_sequence_dict.items())[i])\n",
    "        else:\n",
    "            test_sequences.append(list(all_sequence_dict.items())[i])\n",
    "#     for train_s\n",
    "#         scaled_train_sequences, scaler = scale_dataset(train_sequences)\n",
    "#         scaled_test_sequences ,  _ = scale_dataset(test_sequences, fitted_scale r= scaler)\n",
    "    return train_sequences, test_sequences"
   ]
  },
  {
   "cell_type": "code",
   "execution_count": 377,
   "metadata": {},
   "outputs": [
    {
     "name": "stderr",
     "output_type": "stream",
     "text": [
      "C:\\Users\\allep\\anaconda3\\envs\\MyEnv3_7\\lib\\site-packages\\ipykernel_launcher.py:11: SettingWithCopyWarning: \n",
      "A value is trying to be set on a copy of a slice from a DataFrame.\n",
      "Try using .loc[row_indexer,col_indexer] = value instead\n",
      "\n",
      "See the caveats in the documentation: https://pandas.pydata.org/pandas-docs/stable/user_guide/indexing.html#returning-a-view-versus-a-copy\n",
      "  # This is added back by InteractiveShellApp.init_path()\n"
     ]
    }
   ],
   "source": [
    "# Without 1min\n",
    "train_sequences, test_sequences = retrieve_all_train_test_sequences([day1_dataset_10min, day1_dataset_30min, day1_dataset_60min],\n",
    "                                                                    train_90_10_split['collection'])"
   ]
  },
  {
   "cell_type": "code",
   "execution_count": 378,
   "metadata": {},
   "outputs": [
    {
     "data": {
      "text/plain": [
       "894"
      ]
     },
     "execution_count": 378,
     "metadata": {},
     "output_type": "execute_result"
    }
   ],
   "source": [
    "# Check that the split worked correctly \n",
    "train_collections = []\n",
    "i_max = len(train_sequences)\n",
    "for i in range(0, i_max):    \n",
    "    if train_sequences[i][0] in list(train_90_10_split['collection']):\n",
    "        train_collections.append(train_sequences[i][0])\n",
    "len(train_collections)"
   ]
  },
  {
   "cell_type": "code",
   "execution_count": 396,
   "metadata": {},
   "outputs": [
    {
     "data": {
      "text/plain": [
       "101"
      ]
     },
     "execution_count": 396,
     "metadata": {},
     "output_type": "execute_result"
    }
   ],
   "source": [
    "test_collections = []\n",
    "i_max = len(test_sequences)\n",
    "for i in range(0, i_max):    \n",
    "    if test_sequences[i][0] not in list(train_90_10_split['collection']):\n",
    "        test_collections.append(test_sequences[i][0])\n",
    "len(test_collections)"
   ]
  },
  {
   "cell_type": "code",
   "execution_count": 433,
   "metadata": {},
   "outputs": [
    {
     "data": {
      "text/plain": [
       "101"
      ]
     },
     "execution_count": 433,
     "metadata": {},
     "output_type": "execute_result"
    }
   ],
   "source": [
    "# No overlap in train/test set collections\n",
    "len(set(test_collections) - set(train_collections))"
   ]
  },
  {
   "cell_type": "code",
   "execution_count": 126,
   "metadata": {},
   "outputs": [],
   "source": [
    "# With 1min\n",
    "#train_sequences, test_sequences = retrieve_all_train_test_sequences([day1_dataset_1min, day1_dataset_10min, day1_dataset_30min, day1_dataset_60min])"
   ]
  },
  {
   "cell_type": "code",
   "execution_count": 379,
   "metadata": {},
   "outputs": [],
   "source": [
    "scaled_train_dataset_dict = {}\n",
    "scaled_test_dataset_dict = {}\n",
    "scaled_train_dataset= []\n",
    "scaled_test_dataset= []\n",
    "length = 3\n",
    "for n in range(length):\n",
    "    train_scaled, scaler = scale_dataset([(sequence[0], sequence[1][0][n], sequence[1][1]) for sequence in\n",
    "                                          train_sequences])\n",
    "    test_scaled, _ = scale_dataset([(sequence[0], sequence[1][0][n], sequence[1][1]) for sequence in\n",
    "                                    test_sequences], fitted_scaler= scaler)\n",
    "    scaled_train_dataset.append(train_scaled)\n",
    "    scaled_test_dataset.append(test_scaled)\n",
    "    \n",
    "for scale_sequence in scaled_train_dataset:\n",
    "    for collection in scale_sequence:\n",
    "        if scaled_train_dataset_dict.get(collection[0]):\n",
    "            scaled_train_dataset_dict[collection[0]][0].append(collection[1])\n",
    "        else:\n",
    "            scaled_train_dataset_dict[collection[0]] = ([collection[1]], collection[2])\n",
    "    \n",
    "for scale_sequence in scaled_test_dataset:\n",
    "    for collection in scale_sequence:\n",
    "        if scaled_test_dataset_dict.get(collection[0]):\n",
    "            scaled_test_dataset_dict[collection[0]][0].append(collection[1])\n",
    "        else:\n",
    "            scaled_test_dataset_dict[collection[0]] = ([collection[1]], collection[2])"
   ]
  },
  {
   "cell_type": "code",
   "execution_count": null,
   "metadata": {},
   "outputs": [],
   "source": [
    "#len(list(scaled_train_dataset_dict.keys()))"
   ]
  },
  {
   "cell_type": "code",
   "execution_count": null,
   "metadata": {},
   "outputs": [],
   "source": [
    "#len(list(scaled_test_dataset_dict.keys()))"
   ]
  },
  {
   "cell_type": "code",
   "execution_count": null,
   "metadata": {},
   "outputs": [],
   "source": [
    "#list(scaled_test_dataset_dict.values())[1][0][2]"
   ]
  },
  {
   "cell_type": "code",
   "execution_count": null,
   "metadata": {},
   "outputs": [],
   "source": [
    "#list(scaled_train_dataset_dict.values())[1][0][2]"
   ]
  },
  {
   "cell_type": "markdown",
   "metadata": {},
   "source": [
    "## Model"
   ]
  },
  {
   "cell_type": "code",
   "execution_count": 380,
   "metadata": {},
   "outputs": [],
   "source": [
    "train_values = list(scaled_train_dataset_dict.values())"
   ]
  },
  {
   "cell_type": "code",
   "execution_count": 381,
   "metadata": {},
   "outputs": [],
   "source": [
    "test_values = list(scaled_test_dataset_dict.values())"
   ]
  },
  {
   "cell_type": "code",
   "execution_count": 382,
   "metadata": {},
   "outputs": [
    {
     "data": {
      "text/plain": [
       "(144, 7)"
      ]
     },
     "execution_count": 382,
     "metadata": {},
     "output_type": "execute_result"
    }
   ],
   "source": [
    "MODEL_SHAPE1  = train_values[0][0][0].shape\n",
    "MODEL_SHAPE1"
   ]
  },
  {
   "cell_type": "code",
   "execution_count": 383,
   "metadata": {},
   "outputs": [
    {
     "data": {
      "text/plain": [
       "(48, 7)"
      ]
     },
     "execution_count": 383,
     "metadata": {},
     "output_type": "execute_result"
    }
   ],
   "source": [
    "MODEL_SHAPE2  = train_values[0][0][1].shape\n",
    "MODEL_SHAPE2"
   ]
  },
  {
   "cell_type": "code",
   "execution_count": 384,
   "metadata": {},
   "outputs": [
    {
     "data": {
      "text/plain": [
       "(24, 7)"
      ]
     },
     "execution_count": 384,
     "metadata": {},
     "output_type": "execute_result"
    }
   ],
   "source": [
    "MODEL_SHAPE3 = train_values[0][0][2].shape\n",
    "MODEL_SHAPE3"
   ]
  },
  {
   "cell_type": "code",
   "execution_count": 385,
   "metadata": {},
   "outputs": [],
   "source": [
    "def get_base_model(shape, k_size = K_SIZE1, num_filters = NUM_FILTERS1):\n",
    "    print(\"base model shape\", shape)\n",
    "    input_seq = Input(shape=shape)\n",
    "    nb_filters = num_filters\n",
    "    convolved = Conv1D(num_filters, k_size, padding=\"same\", activation=\"relu\")(input_seq)\n",
    "    processed = GlobalMaxPooling1D()(convolved)\n",
    "    compressed = Dense(50, activation=\"relu\")(processed)\n",
    "    compressed = Dropout(0.3)(compressed)\n",
    "    model = Model(inputs=input_seq, outputs=compressed)\n",
    "    return model"
   ]
  },
  {
   "cell_type": "code",
   "execution_count": 386,
   "metadata": {},
   "outputs": [],
   "source": [
    "def main_model(shape1, shape2, shape3):\n",
    "    shape1_input = Input(shape=shape1, name='input1')\n",
    "    shape2_input = Input(shape=shape2, name='input2')\n",
    "    shape3_input = Input(shape=shape3, name='input3')\n",
    "    shape1_model = get_base_model(shape1, k_size = K_SIZE1, num_filters=NUM_FILTERS1)\n",
    "    shape2_model = get_base_model(shape2, k_size = K_SIZE2, num_filters=NUM_FILTERS2)\n",
    "    shape3_model = get_base_model(shape3, k_size = K_SIZE3, num_filters=NUM_FILTERS3)\n",
    "    \n",
    "    embedding1 = shape1_model(shape1_input)\n",
    "    embedding2 = shape2_model(shape2_input)\n",
    "    embedding3 = shape3_model(shape3_input)\n",
    "    merged = Concatenate()([embedding1, embedding2, embedding3])\n",
    "    \n",
    "    # todo: add hidden layers\n",
    "    out = Dense(1, activation='sigmoid')(merged)\n",
    "    model = Model(inputs=[shape1_input, shape2_input, shape3_input], outputs=out)\n",
    "    return model"
   ]
  },
  {
   "cell_type": "code",
   "execution_count": 418,
   "metadata": {},
   "outputs": [],
   "source": [
    "def run_model(x_train, y_train, x_test, y_test):\n",
    "    es = keras.callbacks.EarlyStopping(min_delta=0.0000001, patience=40)\n",
    "    #data_set = tf.data.Dataset.from_tensor_slices(  (x_train ,y_train) )\n",
    "    model = main_model(MODEL_SHAPE1, MODEL_SHAPE2, MODEL_SHAPE3)\n",
    "    model.compile(loss='binary_crossentropy', # categorical_crossentropy\n",
    "                          optimizer='rmsprop', #sgd, nadam, adam, rmsprop\n",
    "                          metrics=[tf.keras.metrics.Precision(), tf.keras.metrics.Recall(),\n",
    "                                   tf.keras.metrics.AUC(curve='PR')])\n",
    "    model.summary()\n",
    "    print('SIZE OF TRAINING DATA', len(x_train))\n",
    "    model_hist = model.fit(x_train,\n",
    "                               validation_data=x_test,\n",
    "                               batch_size=50, epochs=1000, \n",
    "                           callbacks=[es]\n",
    "                          )\n",
    "    return model_hist, model"
   ]
  },
  {
   "cell_type": "code",
   "execution_count": 388,
   "metadata": {},
   "outputs": [],
   "source": [
    "def plot_training_curves_auc(history, title=None, run=None):\n",
    "    ''' Plot the training curves for loss and accuracy given a model history\n",
    "    '''\n",
    "    # find the minimum loss epoch\n",
    "    minimum = np.min(history.history['val_loss'])\n",
    "    min_loc = np.where(minimum == history.history['val_loss'])[0]\n",
    "    # get the vline y-min and y-max\n",
    "    loss_min, loss_max = (min(history.history['val_loss'] + history.history['loss']),\n",
    "                          max(history.history['val_loss'] + history.history['loss']))\n",
    "    acc_min, acc_max = (min(history.history['val_auc'+'_'+run] + history.history['auc'+'_'+run]),\n",
    "                        max(history.history['val_auc'+'_'+run] + history.history['auc'+'_'+run]))\n",
    "    # create figure\n",
    "    fig, ax = plt.subplots(ncols=2, figsize = (15,7))\n",
    "    fig.suptitle(title)\n",
    "    index = np.arange(1, len(history.history['auc'+'_'+run]) + 1)\n",
    "    # plot the loss and validation loss\n",
    "    ax[0].plot(index, history.history['loss'], label = 'loss')\n",
    "    ax[0].plot(index, history.history['val_loss'], label = 'val_loss')\n",
    "    ax[0].vlines(min_loc + 1, loss_min, loss_max, label = 'min_loss_location')\n",
    "    ax[0].set_title('Loss')\n",
    "    ax[0].set_ylabel('Loss')\n",
    "    ax[0].set_xlabel('Epochs')\n",
    "    ax[0].legend()\n",
    "    # plot the accuracy and validation accuracy\n",
    "    ax[1].plot(index, history.history['auc'+'_'+run], label = 'auc')\n",
    "    ax[1].plot(index, history.history['val_auc'+'_'+run], label = 'val_auc')\n",
    "    ax[1].vlines(min_loc + 1, acc_min, acc_max, label = 'min_loss_location')\n",
    "    ax[1].set_title('AUC')\n",
    "    ax[1].set_ylabel('auc')\n",
    "    ax[1].set_xlabel('Epochs')\n",
    "    ax[1].legend()\n",
    "    plt.show()"
   ]
  },
  {
   "cell_type": "code",
   "execution_count": 389,
   "metadata": {},
   "outputs": [],
   "source": [
    "NUM_FILTERS1 = 30\n",
    "NUM_FILTERS2 = 20\n",
    "NUM_FILTERS3 = 10\n",
    "K_SIZE1 = 12 #10\n",
    "K_SIZE2 = 12 #6\n",
    "K_SIZE3 = 6 #4"
   ]
  },
  {
   "cell_type": "code",
   "execution_count": 421,
   "metadata": {},
   "outputs": [],
   "source": [
    "x_train_1 = [sequence[0][0] for sequence in train_values]\n",
    "x_train_2 = [sequence[0][1] for sequence in train_values]\n",
    "x_train_3 = [sequence[0][2] for sequence in train_values]\n",
    "y_train = [sequence[1] for sequence in train_values]\n",
    "\n",
    "X_train1 = np.stack(x_train_1)\n",
    "X_train2 = np.stack(x_train_2)\n",
    "X_train3 = np.stack(x_train_3)\n",
    "\n",
    "train_len = len(train_sequences)\n",
    "X_train1 = X_train1.reshape(train_len,144,7)\n",
    "X_train2 = X_train2.reshape(train_len,48,7)\n",
    "X_train3 = X_train3.reshape(train_len,24,7)"
   ]
  },
  {
   "cell_type": "code",
   "execution_count": 422,
   "metadata": {},
   "outputs": [],
   "source": [
    "# Zero-out one or more of the training sets\n",
    "#X_train1 = np.zeros( (train_len,144,7) , dtype=np.int64)\n",
    "#X_train2 = np.zeros( (train_len,48,7) , dtype=np.int64)\n",
    "#X_train3 = np.zeros( (train_len,24,7) , dtype=np.int64)"
   ]
  },
  {
   "cell_type": "code",
   "execution_count": 423,
   "metadata": {},
   "outputs": [],
   "source": [
    "x_test_1 = [sequence[0][0] for sequence in test_values]\n",
    "x_test_2 = [sequence[0][1] for sequence in test_values]\n",
    "x_test_3 = [sequence[0][2] for sequence in test_values]\n",
    "y_test = [sequence[1] for sequence in test_values]\n",
    "\n",
    "X_test1 = np.stack(x_test_1)\n",
    "X_test2 = np.stack(x_test_2)\n",
    "X_test3 = np.stack(x_test_3)\n",
    "\n",
    "test_len = len(test_sequences)\n",
    "X_test1 = X_test1.reshape(test_len,144,7)\n",
    "X_test2 = X_test2.reshape(test_len,48,7)\n",
    "X_test3 = X_test3.reshape(test_len,24,7)"
   ]
  },
  {
   "cell_type": "code",
   "execution_count": 424,
   "metadata": {},
   "outputs": [],
   "source": [
    "# Zero-out one or more of the test sets\n",
    "#X_test1 = np.zeros( (test_len,144,7) , dtype=np.int64)\n",
    "#X_test2 = np.zeros( (test_len,48,7) , dtype=np.int64)\n",
    "#X_test3 = np.zeros( (test_len,24,7) , dtype=np.int64)"
   ]
  },
  {
   "cell_type": "code",
   "execution_count": null,
   "metadata": {},
   "outputs": [],
   "source": [
    "# X_train = [sequence[0].to_numpy() for sequence in scaled_train_sequences]\n",
    "# y_train = [sequence[1] for sequence in scaled_train_sequences]\n",
    "# X_test = [sequence[0].to_numpy() for sequence in scaled_test_sequences]\n",
    "# y_test = [sequence[1] for sequence in scaled_test_sequences]"
   ]
  },
  {
   "cell_type": "code",
   "execution_count": 425,
   "metadata": {},
   "outputs": [],
   "source": [
    "dataset_train = tf.data.Dataset.from_tensor_slices(({'input1': X_train1, 'input2': X_train2, 'input3': X_train3},\n",
    "                                                    y_train)).batch(50)"
   ]
  },
  {
   "cell_type": "code",
   "execution_count": 426,
   "metadata": {},
   "outputs": [],
   "source": [
    "validation = tf.data.Dataset.from_tensor_slices(({'input1': X_test1, 'input2': X_test2, 'input3': X_test3},\n",
    "                                                 y_test)).batch(50)"
   ]
  },
  {
   "cell_type": "code",
   "execution_count": 434,
   "metadata": {},
   "outputs": [
    {
     "name": "stdout",
     "output_type": "stream",
     "text": [
      "base model shape (144, 7)\n",
      "base model shape (48, 7)\n",
      "base model shape (24, 7)\n",
      "Model: \"model_235\"\n",
      "__________________________________________________________________________________________________\n",
      " Layer (type)                   Output Shape         Param #     Connected to                     \n",
      "==================================================================================================\n",
      " input1 (InputLayer)            [(None, 144, 7)]     0           []                               \n",
      "                                                                                                  \n",
      " input2 (InputLayer)            [(None, 48, 7)]      0           []                               \n",
      "                                                                                                  \n",
      " input3 (InputLayer)            [(None, 24, 7)]      0           []                               \n",
      "                                                                                                  \n",
      " model_232 (Functional)         (None, 50)           4100        ['input1[0][0]']                 \n",
      "                                                                                                  \n",
      " model_233 (Functional)         (None, 50)           2750        ['input2[0][0]']                 \n",
      "                                                                                                  \n",
      " model_234 (Functional)         (None, 50)           980         ['input3[0][0]']                 \n",
      "                                                                                                  \n",
      " concatenate_58 (Concatenate)   (None, 150)          0           ['model_232[0][0]',              \n",
      "                                                                  'model_233[0][0]',              \n",
      "                                                                  'model_234[0][0]']              \n",
      "                                                                                                  \n",
      " dense_235 (Dense)              (None, 1)            151         ['concatenate_58[0][0]']         \n",
      "                                                                                                  \n",
      "==================================================================================================\n",
      "Total params: 7,981\n",
      "Trainable params: 7,981\n",
      "Non-trainable params: 0\n",
      "__________________________________________________________________________________________________\n",
      "SIZE OF TRAINING DATA 18\n",
      "Epoch 1/1000\n",
      "18/18 [==============================] - 3s 42ms/step - loss: 0.5838 - precision_58: 0.3596 - recall_58: 0.1345 - auc_58: 0.3245 - val_loss: 0.6211 - val_precision_58: 0.0000e+00 - val_recall_58: 0.0000e+00 - val_auc_58: 0.6581\n",
      "Epoch 2/1000\n",
      "18/18 [==============================] - 0s 12ms/step - loss: 0.5728 - precision_58: 0.0000e+00 - recall_58: 0.0000e+00 - auc_58: 0.3054 - val_loss: 0.6200 - val_precision_58: 0.0000e+00 - val_recall_58: 0.0000e+00 - val_auc_58: 0.6536\n",
      "Epoch 3/1000\n",
      "18/18 [==============================] - 0s 13ms/step - loss: 0.5606 - precision_58: 0.0000e+00 - recall_58: 0.0000e+00 - auc_58: 0.3355 - val_loss: 0.6182 - val_precision_58: 0.0000e+00 - val_recall_58: 0.0000e+00 - val_auc_58: 0.6593\n",
      "Epoch 4/1000\n",
      "18/18 [==============================] - 0s 11ms/step - loss: 0.5595 - precision_58: 1.0000 - recall_58: 0.0042 - auc_58: 0.3482 - val_loss: 0.6124 - val_precision_58: 0.0000e+00 - val_recall_58: 0.0000e+00 - val_auc_58: 0.6867\n",
      "Epoch 5/1000\n",
      "18/18 [==============================] - 0s 12ms/step - loss: 0.5572 - precision_58: 0.0000e+00 - recall_58: 0.0000e+00 - auc_58: 0.3359 - val_loss: 0.6126 - val_precision_58: 0.0000e+00 - val_recall_58: 0.0000e+00 - val_auc_58: 0.6660\n",
      "Epoch 6/1000\n",
      "18/18 [==============================] - 0s 12ms/step - loss: 0.5566 - precision_58: 0.0000e+00 - recall_58: 0.0000e+00 - auc_58: 0.3439 - val_loss: 0.6116 - val_precision_58: 0.0000e+00 - val_recall_58: 0.0000e+00 - val_auc_58: 0.6628\n",
      "Epoch 7/1000\n",
      "18/18 [==============================] - 0s 16ms/step - loss: 0.5559 - precision_58: 0.5000 - recall_58: 0.0042 - auc_58: 0.3459 - val_loss: 0.6086 - val_precision_58: 0.0000e+00 - val_recall_58: 0.0000e+00 - val_auc_58: 0.6650\n",
      "Epoch 8/1000\n",
      "18/18 [==============================] - 0s 12ms/step - loss: 0.5471 - precision_58: 1.0000 - recall_58: 0.0042 - auc_58: 0.3577 - val_loss: 0.6093 - val_precision_58: 0.0000e+00 - val_recall_58: 0.0000e+00 - val_auc_58: 0.6565\n",
      "Epoch 9/1000\n",
      "18/18 [==============================] - 0s 13ms/step - loss: 0.5362 - precision_58: 0.0000e+00 - recall_58: 0.0000e+00 - auc_58: 0.3887 - val_loss: 0.6104 - val_precision_58: 0.0000e+00 - val_recall_58: 0.0000e+00 - val_auc_58: 0.6689\n",
      "Epoch 10/1000\n",
      "18/18 [==============================] - 0s 12ms/step - loss: 0.5446 - precision_58: 0.0000e+00 - recall_58: 0.0000e+00 - auc_58: 0.3823 - val_loss: 0.6069 - val_precision_58: 0.0000e+00 - val_recall_58: 0.0000e+00 - val_auc_58: 0.6618\n",
      "Epoch 11/1000\n",
      "18/18 [==============================] - 0s 15ms/step - loss: 0.5407 - precision_58: 0.6667 - recall_58: 0.0168 - auc_58: 0.3954 - val_loss: 0.6079 - val_precision_58: 0.0000e+00 - val_recall_58: 0.0000e+00 - val_auc_58: 0.6700\n",
      "Epoch 12/1000\n",
      "18/18 [==============================] - 0s 13ms/step - loss: 0.5431 - precision_58: 1.0000 - recall_58: 0.0084 - auc_58: 0.3754 - val_loss: 0.6066 - val_precision_58: 0.0000e+00 - val_recall_58: 0.0000e+00 - val_auc_58: 0.6760\n",
      "Epoch 13/1000\n",
      "18/18 [==============================] - 0s 14ms/step - loss: 0.5419 - precision_58: 1.0000 - recall_58: 0.0168 - auc_58: 0.3878 - val_loss: 0.6019 - val_precision_58: 0.0000e+00 - val_recall_58: 0.0000e+00 - val_auc_58: 0.6808\n",
      "Epoch 14/1000\n",
      "18/18 [==============================] - 0s 14ms/step - loss: 0.5341 - precision_58: 0.4000 - recall_58: 0.0084 - auc_58: 0.3886 - val_loss: 0.6068 - val_precision_58: 0.0000e+00 - val_recall_58: 0.0000e+00 - val_auc_58: 0.6779\n",
      "Epoch 15/1000\n",
      "18/18 [==============================] - 0s 13ms/step - loss: 0.5398 - precision_58: 0.6667 - recall_58: 0.0084 - auc_58: 0.3912 - val_loss: 0.6037 - val_precision_58: 0.0000e+00 - val_recall_58: 0.0000e+00 - val_auc_58: 0.6843\n",
      "Epoch 16/1000\n",
      "18/18 [==============================] - 0s 12ms/step - loss: 0.5338 - precision_58: 0.2000 - recall_58: 0.0042 - auc_58: 0.3934 - val_loss: 0.6026 - val_precision_58: 0.0000e+00 - val_recall_58: 0.0000e+00 - val_auc_58: 0.6883\n",
      "Epoch 17/1000\n",
      "18/18 [==============================] - 0s 13ms/step - loss: 0.5307 - precision_58: 0.4444 - recall_58: 0.0168 - auc_58: 0.4191 - val_loss: 0.6038 - val_precision_58: 0.0000e+00 - val_recall_58: 0.0000e+00 - val_auc_58: 0.6996\n",
      "Epoch 18/1000\n",
      "18/18 [==============================] - 0s 13ms/step - loss: 0.5300 - precision_58: 0.6000 - recall_58: 0.0252 - auc_58: 0.4146 - val_loss: 0.5991 - val_precision_58: 0.0000e+00 - val_recall_58: 0.0000e+00 - val_auc_58: 0.7045\n",
      "Epoch 19/1000\n",
      "18/18 [==============================] - 0s 13ms/step - loss: 0.5298 - precision_58: 0.6000 - recall_58: 0.0252 - auc_58: 0.4143 - val_loss: 0.6006 - val_precision_58: 0.0000e+00 - val_recall_58: 0.0000e+00 - val_auc_58: 0.6984\n",
      "Epoch 20/1000\n",
      "18/18 [==============================] - 0s 13ms/step - loss: 0.5276 - precision_58: 0.5000 - recall_58: 0.0168 - auc_58: 0.4144 - val_loss: 0.5996 - val_precision_58: 0.0000e+00 - val_recall_58: 0.0000e+00 - val_auc_58: 0.7064\n",
      "Epoch 21/1000\n",
      "18/18 [==============================] - 0s 16ms/step - loss: 0.5268 - precision_58: 0.6364 - recall_58: 0.0294 - auc_58: 0.4273 - val_loss: 0.5997 - val_precision_58: 0.0000e+00 - val_recall_58: 0.0000e+00 - val_auc_58: 0.6971\n",
      "Epoch 22/1000\n",
      "18/18 [==============================] - 0s 12ms/step - loss: 0.5265 - precision_58: 0.6667 - recall_58: 0.0420 - auc_58: 0.4220 - val_loss: 0.6011 - val_precision_58: 0.0000e+00 - val_recall_58: 0.0000e+00 - val_auc_58: 0.7001\n",
      "Epoch 23/1000\n",
      "18/18 [==============================] - 0s 14ms/step - loss: 0.5230 - precision_58: 0.6154 - recall_58: 0.0336 - auc_58: 0.4294 - val_loss: 0.6018 - val_precision_58: 0.0000e+00 - val_recall_58: 0.0000e+00 - val_auc_58: 0.6963\n",
      "Epoch 24/1000\n"
     ]
    },
    {
     "name": "stdout",
     "output_type": "stream",
     "text": [
      "18/18 [==============================] - 0s 16ms/step - loss: 0.5168 - precision_58: 0.5625 - recall_58: 0.0378 - auc_58: 0.4618 - val_loss: 0.6001 - val_precision_58: 0.0000e+00 - val_recall_58: 0.0000e+00 - val_auc_58: 0.6943\n",
      "Epoch 25/1000\n",
      "18/18 [==============================] - 0s 12ms/step - loss: 0.5217 - precision_58: 0.6500 - recall_58: 0.0546 - auc_58: 0.4563 - val_loss: 0.6011 - val_precision_58: 0.0000e+00 - val_recall_58: 0.0000e+00 - val_auc_58: 0.6899\n",
      "Epoch 26/1000\n",
      "18/18 [==============================] - 0s 11ms/step - loss: 0.5218 - precision_58: 0.7333 - recall_58: 0.0462 - auc_58: 0.4579 - val_loss: 0.5990 - val_precision_58: 0.0000e+00 - val_recall_58: 0.0000e+00 - val_auc_58: 0.6988\n",
      "Epoch 27/1000\n",
      "18/18 [==============================] - 0s 12ms/step - loss: 0.5183 - precision_58: 0.5263 - recall_58: 0.0420 - auc_58: 0.4580 - val_loss: 0.5985 - val_precision_58: 0.0000e+00 - val_recall_58: 0.0000e+00 - val_auc_58: 0.6933\n",
      "Epoch 28/1000\n",
      "18/18 [==============================] - 0s 11ms/step - loss: 0.5226 - precision_58: 0.7000 - recall_58: 0.0588 - auc_58: 0.4499 - val_loss: 0.5974 - val_precision_58: 0.0000e+00 - val_recall_58: 0.0000e+00 - val_auc_58: 0.7005\n",
      "Epoch 29/1000\n",
      "18/18 [==============================] - 0s 11ms/step - loss: 0.5208 - precision_58: 0.5833 - recall_58: 0.0588 - auc_58: 0.4457 - val_loss: 0.5974 - val_precision_58: 0.0000e+00 - val_recall_58: 0.0000e+00 - val_auc_58: 0.6777\n",
      "Epoch 30/1000\n",
      "18/18 [==============================] - 0s 17ms/step - loss: 0.5167 - precision_58: 0.7391 - recall_58: 0.0714 - auc_58: 0.4669 - val_loss: 0.5972 - val_precision_58: 0.0000e+00 - val_recall_58: 0.0000e+00 - val_auc_58: 0.6727\n",
      "Epoch 31/1000\n",
      "18/18 [==============================] - 0s 13ms/step - loss: 0.5154 - precision_58: 0.5417 - recall_58: 0.0546 - auc_58: 0.4509 - val_loss: 0.5982 - val_precision_58: 0.0000e+00 - val_recall_58: 0.0000e+00 - val_auc_58: 0.6637\n",
      "Epoch 32/1000\n",
      "18/18 [==============================] - 0s 11ms/step - loss: 0.5129 - precision_58: 0.6667 - recall_58: 0.0672 - auc_58: 0.4777 - val_loss: 0.5985 - val_precision_58: 0.0000e+00 - val_recall_58: 0.0000e+00 - val_auc_58: 0.6654\n",
      "Epoch 33/1000\n",
      "18/18 [==============================] - 0s 13ms/step - loss: 0.5083 - precision_58: 0.7500 - recall_58: 0.0882 - auc_58: 0.4827 - val_loss: 0.5960 - val_precision_58: 0.0000e+00 - val_recall_58: 0.0000e+00 - val_auc_58: 0.6817\n",
      "Epoch 34/1000\n",
      "18/18 [==============================] - 0s 12ms/step - loss: 0.5126 - precision_58: 0.6667 - recall_58: 0.1176 - auc_58: 0.4777 - val_loss: 0.5966 - val_precision_58: 0.0000e+00 - val_recall_58: 0.0000e+00 - val_auc_58: 0.6657\n",
      "Epoch 35/1000\n",
      "18/18 [==============================] - 0s 11ms/step - loss: 0.5094 - precision_58: 0.7407 - recall_58: 0.0840 - auc_58: 0.4875 - val_loss: 0.5966 - val_precision_58: 0.0000e+00 - val_recall_58: 0.0000e+00 - val_auc_58: 0.6641\n",
      "Epoch 36/1000\n",
      "18/18 [==============================] - 0s 16ms/step - loss: 0.5056 - precision_58: 0.6829 - recall_58: 0.1176 - auc_58: 0.4912 - val_loss: 0.5965 - val_precision_58: 0.0000e+00 - val_recall_58: 0.0000e+00 - val_auc_58: 0.6505\n",
      "Epoch 37/1000\n",
      "18/18 [==============================] - 0s 11ms/step - loss: 0.5089 - precision_58: 0.6250 - recall_58: 0.1050 - auc_58: 0.4834 - val_loss: 0.5961 - val_precision_58: 0.0000e+00 - val_recall_58: 0.0000e+00 - val_auc_58: 0.6599\n",
      "Epoch 38/1000\n",
      "18/18 [==============================] - 0s 13ms/step - loss: 0.5009 - precision_58: 0.7368 - recall_58: 0.1176 - auc_58: 0.5041 - val_loss: 0.5956 - val_precision_58: 0.0000e+00 - val_recall_58: 0.0000e+00 - val_auc_58: 0.6586\n",
      "Epoch 39/1000\n",
      "18/18 [==============================] - 0s 12ms/step - loss: 0.5032 - precision_58: 0.7561 - recall_58: 0.1303 - auc_58: 0.5060 - val_loss: 0.5951 - val_precision_58: 0.0000e+00 - val_recall_58: 0.0000e+00 - val_auc_58: 0.6602\n",
      "Epoch 40/1000\n",
      "18/18 [==============================] - 0s 13ms/step - loss: 0.5016 - precision_58: 0.6923 - recall_58: 0.1134 - auc_58: 0.5063 - val_loss: 0.5945 - val_precision_58: 0.0000e+00 - val_recall_58: 0.0000e+00 - val_auc_58: 0.6530\n",
      "Epoch 41/1000\n",
      "18/18 [==============================] - 0s 14ms/step - loss: 0.5052 - precision_58: 0.7143 - recall_58: 0.1261 - auc_58: 0.5021 - val_loss: 0.5946 - val_precision_58: 1.0000 - val_recall_58: 0.0270 - val_auc_58: 0.6491\n",
      "Epoch 42/1000\n",
      "18/18 [==============================] - 0s 11ms/step - loss: 0.5036 - precision_58: 0.7179 - recall_58: 0.1176 - auc_58: 0.5035 - val_loss: 0.5952 - val_precision_58: 1.0000 - val_recall_58: 0.0270 - val_auc_58: 0.6429\n",
      "Epoch 43/1000\n",
      "18/18 [==============================] - 0s 12ms/step - loss: 0.4980 - precision_58: 0.7391 - recall_58: 0.1429 - auc_58: 0.5246 - val_loss: 0.5979 - val_precision_58: 1.0000 - val_recall_58: 0.0270 - val_auc_58: 0.6427\n",
      "Epoch 44/1000\n",
      "18/18 [==============================] - 0s 11ms/step - loss: 0.4934 - precision_58: 0.7778 - recall_58: 0.1471 - auc_58: 0.5400 - val_loss: 0.5968 - val_precision_58: 1.0000 - val_recall_58: 0.0270 - val_auc_58: 0.6320\n",
      "Epoch 45/1000\n",
      "18/18 [==============================] - 0s 11ms/step - loss: 0.4940 - precision_58: 0.7778 - recall_58: 0.1471 - auc_58: 0.5226 - val_loss: 0.5986 - val_precision_58: 1.0000 - val_recall_58: 0.0270 - val_auc_58: 0.6428\n",
      "Epoch 46/1000\n",
      "18/18 [==============================] - 0s 11ms/step - loss: 0.4951 - precision_58: 0.7500 - recall_58: 0.1513 - auc_58: 0.5370 - val_loss: 0.5923 - val_precision_58: 1.0000 - val_recall_58: 0.0541 - val_auc_58: 0.6359\n",
      "Epoch 47/1000\n",
      "18/18 [==============================] - 0s 17ms/step - loss: 0.4969 - precision_58: 0.7885 - recall_58: 0.1723 - auc_58: 0.5220 - val_loss: 0.5954 - val_precision_58: 1.0000 - val_recall_58: 0.0541 - val_auc_58: 0.6350\n",
      "Epoch 48/1000\n",
      "18/18 [==============================] - 0s 13ms/step - loss: 0.4958 - precision_58: 0.7000 - recall_58: 0.1471 - auc_58: 0.5183 - val_loss: 0.5961 - val_precision_58: 1.0000 - val_recall_58: 0.0541 - val_auc_58: 0.6352\n",
      "Epoch 49/1000\n",
      "18/18 [==============================] - 0s 10ms/step - loss: 0.4934 - precision_58: 0.7500 - recall_58: 0.1765 - auc_58: 0.5319 - val_loss: 0.5953 - val_precision_58: 1.0000 - val_recall_58: 0.0541 - val_auc_58: 0.6257\n",
      "Epoch 50/1000\n",
      "18/18 [==============================] - 0s 11ms/step - loss: 0.4930 - precision_58: 0.7500 - recall_58: 0.1765 - auc_58: 0.5407 - val_loss: 0.5994 - val_precision_58: 1.0000 - val_recall_58: 0.0541 - val_auc_58: 0.6272\n",
      "Epoch 51/1000\n",
      "18/18 [==============================] - 0s 11ms/step - loss: 0.4871 - precision_58: 0.7069 - recall_58: 0.1723 - auc_58: 0.5445 - val_loss: 0.5980 - val_precision_58: 1.0000 - val_recall_58: 0.0541 - val_auc_58: 0.6169\n",
      "Epoch 52/1000\n",
      "18/18 [==============================] - 0s 12ms/step - loss: 0.4872 - precision_58: 0.7544 - recall_58: 0.1807 - auc_58: 0.5430 - val_loss: 0.6018 - val_precision_58: 1.0000 - val_recall_58: 0.0541 - val_auc_58: 0.6366\n",
      "Epoch 53/1000\n",
      "18/18 [==============================] - 0s 11ms/step - loss: 0.4875 - precision_58: 0.7333 - recall_58: 0.1849 - auc_58: 0.5389 - val_loss: 0.5949 - val_precision_58: 1.0000 - val_recall_58: 0.0811 - val_auc_58: 0.6262\n",
      "Epoch 54/1000\n",
      "18/18 [==============================] - 0s 12ms/step - loss: 0.4847 - precision_58: 0.7097 - recall_58: 0.1849 - auc_58: 0.5498 - val_loss: 0.5913 - val_precision_58: 1.0000 - val_recall_58: 0.0811 - val_auc_58: 0.6321\n",
      "Epoch 55/1000\n",
      "18/18 [==============================] - 0s 11ms/step - loss: 0.4822 - precision_58: 0.7188 - recall_58: 0.1933 - auc_58: 0.5557 - val_loss: 0.5936 - val_precision_58: 0.7500 - val_recall_58: 0.0811 - val_auc_58: 0.6278\n",
      "Epoch 56/1000\n",
      "18/18 [==============================] - 0s 12ms/step - loss: 0.4811 - precision_58: 0.7231 - recall_58: 0.1975 - auc_58: 0.5566 - val_loss: 0.5939 - val_precision_58: 1.0000 - val_recall_58: 0.0811 - val_auc_58: 0.6377\n",
      "Epoch 57/1000\n",
      "18/18 [==============================] - 0s 13ms/step - loss: 0.4788 - precision_58: 0.7681 - recall_58: 0.2227 - auc_58: 0.5630 - val_loss: 0.5936 - val_precision_58: 0.7500 - val_recall_58: 0.0811 - val_auc_58: 0.6217\n",
      "Epoch 58/1000\n"
     ]
    },
    {
     "name": "stdout",
     "output_type": "stream",
     "text": [
      "18/18 [==============================] - 0s 11ms/step - loss: 0.4779 - precision_58: 0.8000 - recall_58: 0.2353 - auc_58: 0.5743 - val_loss: 0.5959 - val_precision_58: 0.7500 - val_recall_58: 0.0811 - val_auc_58: 0.6197\n",
      "Epoch 59/1000\n",
      "18/18 [==============================] - 0s 11ms/step - loss: 0.4764 - precision_58: 0.7467 - recall_58: 0.2353 - auc_58: 0.5706 - val_loss: 0.5963 - val_precision_58: 0.7500 - val_recall_58: 0.0811 - val_auc_58: 0.6214\n",
      "Epoch 60/1000\n",
      "18/18 [==============================] - 0s 13ms/step - loss: 0.4725 - precision_58: 0.7703 - recall_58: 0.2395 - auc_58: 0.5875 - val_loss: 0.5958 - val_precision_58: 0.7500 - val_recall_58: 0.0811 - val_auc_58: 0.6042\n",
      "Epoch 61/1000\n",
      "18/18 [==============================] - 0s 18ms/step - loss: 0.4687 - precision_58: 0.7887 - recall_58: 0.2353 - auc_58: 0.5932 - val_loss: 0.5959 - val_precision_58: 0.7500 - val_recall_58: 0.0811 - val_auc_58: 0.6171\n",
      "Epoch 62/1000\n",
      "18/18 [==============================] - 0s 18ms/step - loss: 0.4700 - precision_58: 0.7534 - recall_58: 0.2311 - auc_58: 0.5783 - val_loss: 0.6003 - val_precision_58: 0.7500 - val_recall_58: 0.0811 - val_auc_58: 0.5889\n",
      "Epoch 63/1000\n",
      "18/18 [==============================] - 0s 13ms/step - loss: 0.4688 - precision_58: 0.7101 - recall_58: 0.2059 - auc_58: 0.5810 - val_loss: 0.5980 - val_precision_58: 0.7500 - val_recall_58: 0.0811 - val_auc_58: 0.6045\n",
      "Epoch 64/1000\n",
      "18/18 [==============================] - 0s 10ms/step - loss: 0.4712 - precision_58: 0.7600 - recall_58: 0.2395 - auc_58: 0.5781 - val_loss: 0.5964 - val_precision_58: 0.7500 - val_recall_58: 0.0811 - val_auc_58: 0.6019\n",
      "Epoch 65/1000\n",
      "18/18 [==============================] - 0s 10ms/step - loss: 0.4623 - precision_58: 0.7500 - recall_58: 0.2395 - auc_58: 0.6013 - val_loss: 0.5976 - val_precision_58: 0.7500 - val_recall_58: 0.0811 - val_auc_58: 0.6046\n",
      "Epoch 66/1000\n",
      "18/18 [==============================] - 0s 11ms/step - loss: 0.4714 - precision_58: 0.6860 - recall_58: 0.2479 - auc_58: 0.5668 - val_loss: 0.5947 - val_precision_58: 0.8000 - val_recall_58: 0.1081 - val_auc_58: 0.5946\n",
      "Epoch 67/1000\n",
      "18/18 [==============================] - 0s 11ms/step - loss: 0.4653 - precision_58: 0.7564 - recall_58: 0.2479 - auc_58: 0.5967 - val_loss: 0.6112 - val_precision_58: 0.6000 - val_recall_58: 0.0811 - val_auc_58: 0.5449\n",
      "Epoch 68/1000\n",
      "18/18 [==============================] - 0s 15ms/step - loss: 0.4661 - precision_58: 0.8000 - recall_58: 0.2689 - auc_58: 0.5915 - val_loss: 0.5927 - val_precision_58: 0.8000 - val_recall_58: 0.1081 - val_auc_58: 0.6150\n",
      "Epoch 69/1000\n",
      "18/18 [==============================] - 0s 11ms/step - loss: 0.4581 - precision_58: 0.7692 - recall_58: 0.2521 - auc_58: 0.6037 - val_loss: 0.5968 - val_precision_58: 0.8000 - val_recall_58: 0.1081 - val_auc_58: 0.6092\n",
      "Epoch 70/1000\n",
      "18/18 [==============================] - 0s 15ms/step - loss: 0.4618 - precision_58: 0.8219 - recall_58: 0.2521 - auc_58: 0.6012 - val_loss: 0.5972 - val_precision_58: 0.8000 - val_recall_58: 0.1081 - val_auc_58: 0.5906\n",
      "Epoch 71/1000\n",
      "18/18 [==============================] - 0s 11ms/step - loss: 0.4599 - precision_58: 0.7711 - recall_58: 0.2689 - auc_58: 0.5988 - val_loss: 0.5924 - val_precision_58: 0.8000 - val_recall_58: 0.1081 - val_auc_58: 0.5994\n",
      "Epoch 72/1000\n",
      "18/18 [==============================] - 0s 14ms/step - loss: 0.4543 - precision_58: 0.7654 - recall_58: 0.2605 - auc_58: 0.6152 - val_loss: 0.6080 - val_precision_58: 0.6667 - val_recall_58: 0.1081 - val_auc_58: 0.5406\n",
      "Epoch 73/1000\n",
      "18/18 [==============================] - 0s 13ms/step - loss: 0.4617 - precision_58: 0.7831 - recall_58: 0.2731 - auc_58: 0.5970 - val_loss: 0.5966 - val_precision_58: 0.8000 - val_recall_58: 0.1081 - val_auc_58: 0.5837\n",
      "Epoch 74/1000\n",
      "18/18 [==============================] - 0s 12ms/step - loss: 0.4555 - precision_58: 0.8272 - recall_58: 0.2815 - auc_58: 0.6225 - val_loss: 0.5981 - val_precision_58: 0.8000 - val_recall_58: 0.1081 - val_auc_58: 0.5852\n",
      "Epoch 75/1000\n",
      "18/18 [==============================] - 0s 12ms/step - loss: 0.4544 - precision_58: 0.7875 - recall_58: 0.2647 - auc_58: 0.6173 - val_loss: 0.5958 - val_precision_58: 0.6667 - val_recall_58: 0.1081 - val_auc_58: 0.5973\n",
      "Epoch 76/1000\n",
      "18/18 [==============================] - 0s 13ms/step - loss: 0.4523 - precision_58: 0.7931 - recall_58: 0.2899 - auc_58: 0.6235 - val_loss: 0.6038 - val_precision_58: 0.5714 - val_recall_58: 0.1081 - val_auc_58: 0.5443\n",
      "Epoch 77/1000\n",
      "18/18 [==============================] - 0s 12ms/step - loss: 0.4553 - precision_58: 0.7738 - recall_58: 0.2731 - auc_58: 0.6131 - val_loss: 0.6014 - val_precision_58: 0.6667 - val_recall_58: 0.1081 - val_auc_58: 0.5743\n",
      "Epoch 78/1000\n",
      "18/18 [==============================] - 0s 12ms/step - loss: 0.4453 - precision_58: 0.8375 - recall_58: 0.2815 - auc_58: 0.6403 - val_loss: 0.6070 - val_precision_58: 0.6667 - val_recall_58: 0.1081 - val_auc_58: 0.5613\n",
      "Epoch 79/1000\n",
      "18/18 [==============================] - 0s 12ms/step - loss: 0.4484 - precision_58: 0.7875 - recall_58: 0.2647 - auc_58: 0.6234 - val_loss: 0.6001 - val_precision_58: 0.8000 - val_recall_58: 0.1081 - val_auc_58: 0.6018\n",
      "Epoch 80/1000\n",
      "18/18 [==============================] - 0s 13ms/step - loss: 0.4517 - precision_58: 0.7667 - recall_58: 0.2899 - auc_58: 0.6202 - val_loss: 0.6044 - val_precision_58: 0.6667 - val_recall_58: 0.1081 - val_auc_58: 0.5824\n",
      "Epoch 81/1000\n",
      "18/18 [==============================] - 0s 11ms/step - loss: 0.4490 - precision_58: 0.7647 - recall_58: 0.2731 - auc_58: 0.6188 - val_loss: 0.5954 - val_precision_58: 0.6667 - val_recall_58: 0.1081 - val_auc_58: 0.5929\n",
      "Epoch 82/1000\n",
      "18/18 [==============================] - 0s 12ms/step - loss: 0.4464 - precision_58: 0.7753 - recall_58: 0.2899 - auc_58: 0.6325 - val_loss: 0.6062 - val_precision_58: 0.5714 - val_recall_58: 0.1081 - val_auc_58: 0.5415\n",
      "Epoch 83/1000\n",
      "18/18 [==============================] - 0s 10ms/step - loss: 0.4434 - precision_58: 0.7895 - recall_58: 0.3151 - auc_58: 0.6404 - val_loss: 0.6174 - val_precision_58: 0.6667 - val_recall_58: 0.1081 - val_auc_58: 0.5330\n",
      "Epoch 84/1000\n",
      "18/18 [==============================] - 0s 12ms/step - loss: 0.4388 - precision_58: 0.7640 - recall_58: 0.2857 - auc_58: 0.6411 - val_loss: 0.5990 - val_precision_58: 0.6667 - val_recall_58: 0.1081 - val_auc_58: 0.5764\n",
      "Epoch 85/1000\n",
      "18/18 [==============================] - 0s 11ms/step - loss: 0.4370 - precision_58: 0.7708 - recall_58: 0.3109 - auc_58: 0.6497 - val_loss: 0.6229 - val_precision_58: 0.6667 - val_recall_58: 0.1081 - val_auc_58: 0.5417\n",
      "Epoch 86/1000\n",
      "18/18 [==============================] - 0s 11ms/step - loss: 0.4396 - precision_58: 0.8372 - recall_58: 0.3025 - auc_58: 0.6470 - val_loss: 0.6109 - val_precision_58: 0.5714 - val_recall_58: 0.1081 - val_auc_58: 0.5236\n",
      "Epoch 87/1000\n",
      "18/18 [==============================] - 0s 15ms/step - loss: 0.4433 - precision_58: 0.7188 - recall_58: 0.2899 - auc_58: 0.6208 - val_loss: 0.6124 - val_precision_58: 0.5714 - val_recall_58: 0.1081 - val_auc_58: 0.5334\n",
      "Epoch 88/1000\n",
      "18/18 [==============================] - 0s 12ms/step - loss: 0.4345 - precision_58: 0.7778 - recall_58: 0.2941 - auc_58: 0.6496 - val_loss: 0.6258 - val_precision_58: 0.5714 - val_recall_58: 0.1081 - val_auc_58: 0.5413\n",
      "Epoch 89/1000\n",
      "18/18 [==============================] - 0s 11ms/step - loss: 0.4386 - precision_58: 0.7692 - recall_58: 0.3361 - auc_58: 0.6413 - val_loss: 0.6292 - val_precision_58: 0.5714 - val_recall_58: 0.1081 - val_auc_58: 0.5442\n",
      "Epoch 90/1000\n",
      "18/18 [==============================] - 0s 11ms/step - loss: 0.4435 - precision_58: 0.7900 - recall_58: 0.3319 - auc_58: 0.6346 - val_loss: 0.6245 - val_precision_58: 0.5714 - val_recall_58: 0.1081 - val_auc_58: 0.5400\n",
      "Epoch 91/1000\n",
      "18/18 [==============================] - 0s 11ms/step - loss: 0.4321 - precision_58: 0.8065 - recall_58: 0.3151 - auc_58: 0.6570 - val_loss: 0.6331 - val_precision_58: 0.5714 - val_recall_58: 0.1081 - val_auc_58: 0.5289\n",
      "Epoch 92/1000\n",
      "18/18 [==============================] - 0s 15ms/step - loss: 0.4364 - precision_58: 0.7900 - recall_58: 0.3319 - auc_58: 0.6439 - val_loss: 0.6263 - val_precision_58: 0.5714 - val_recall_58: 0.1081 - val_auc_58: 0.5355\n",
      "Epoch 93/1000\n"
     ]
    },
    {
     "name": "stdout",
     "output_type": "stream",
     "text": [
      "18/18 [==============================] - 0s 17ms/step - loss: 0.4310 - precision_58: 0.7959 - recall_58: 0.3277 - auc_58: 0.6592 - val_loss: 0.5973 - val_precision_58: 0.8000 - val_recall_58: 0.1081 - val_auc_58: 0.5829\n",
      "Epoch 94/1000\n",
      "18/18 [==============================] - 0s 15ms/step - loss: 0.4263 - precision_58: 0.8081 - recall_58: 0.3361 - auc_58: 0.6671 - val_loss: 0.6214 - val_precision_58: 0.5714 - val_recall_58: 0.1081 - val_auc_58: 0.5458\n"
     ]
    }
   ],
   "source": [
    "model_hist, model = run_model(dataset_train, y_train, validation,  y_test)"
   ]
  },
  {
   "cell_type": "code",
   "execution_count": 432,
   "metadata": {},
   "outputs": [
    {
     "data": {
      "image/png": "[encoded data removed]",
      "text/plain": [
       "<Figure size 1500x700 with 2 Axes>"
      ]
     },
     "metadata": {},
     "output_type": "display_data"
    }
   ],
   "source": [
    "plot_training_curves_auc(history=model_hist, run='57')"
   ]
  },
  {
   "cell_type": "code",
   "execution_count": 42,
   "metadata": {},
   "outputs": [],
   "source": [
    "#prediction = model.predict(all_x_test)"
   ]
  },
  {
   "cell_type": "code",
   "execution_count": null,
   "metadata": {},
   "outputs": [],
   "source": [
    "#prediction[prediction <=0.5] = 0\n",
    "#prediction[prediction >0.5] = 1"
   ]
  },
  {
   "cell_type": "code",
   "execution_count": null,
   "metadata": {},
   "outputs": [],
   "source": [
    "#[pred[0] for pred in prediction.tolist()]"
   ]
  }
 ],
 "metadata": {
  "kernelspec": {
   "display_name": "Python 3",
   "language": "python",
   "name": "python3"
  },
  "language_info": {
   "codemirror_mode": {
    "name": "ipython",
    "version": 3
   },
   "file_extension": ".py",
   "mimetype": "text/x-python",
   "name": "python",
   "nbconvert_exporter": "python",
   "pygments_lexer": "ipython3",
   "version": "3.7.10"
  }
 },
 "nbformat": 4,
 "nbformat_minor": 4
}
